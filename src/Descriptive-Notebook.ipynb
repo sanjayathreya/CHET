{
  "nbformat": 4,
  "nbformat_minor": 0,
  "metadata": {
    "colab": {
      "provenance": [],
      "machine_shape": "hm",
      "gpuType": "A100",
      "authorship_tag": "ABX9TyM+rs6goW4kUpmX4mMSy2Jr",
      "include_colab_link": true
    },
    "kernelspec": {
      "name": "python3",
      "display_name": "Python 3"
    },
    "language_info": {
      "name": "python"
    },
    "gpuClass": "standard",
    "accelerator": "GPU"
  },
  "cells": [
    {
      "cell_type": "markdown",
      "metadata": {
        "id": "view-in-github",
        "colab_type": "text"
      },
      "source": [
        "<a href=\"https://colab.research.google.com/github/sanjayathreya/cs598dl4h-project/blob/main/src/Descriptive-Notebook.ipynb\" target=\"_parent\"><img src=\"https://colab.research.google.com/assets/colab-badge.svg\" alt=\"Open In Colab\"/></a>"
      ]
    },
    {
      "cell_type": "markdown",
      "source": [
        "## **Reproducibility summary**\n",
        "\n",
        "This notebook describes the methods followed by the paper **Chang Lu, Tian Han, and Yue Ning. 2021a. Context- aware health event prediction via transition functions on dynamic disease graphs(Chet). ArXiv, abs/2112.05195**\n",
        "\n",
        "1.   **Claim 1**: For heart failure prediction task, Chet outperforms the baseline models based on metrics such as **AUC and F1-scores on MIMIC III and MIMIC IV data sets.**\n",
        "\n",
        "2. **Claim 2**: For diagnosis prediction task, Chet outperforms the baseline models based on MIMIC III and MIMIC IV data sets. The authors compare w-F1 is a weighted sum of F1 scores for all medical codes and R@k which is an average ratio of desired medical codes in top k predictions by the total number of desired medical codes in each visit.\n",
        "\n",
        "To verify these claims, we reproduced these results MIMIC III- carevue (Johnson et al., 2022) which excludes overlap of patients in MIMIC IV, and MIMIC IV (Johnson et al., 2023). Additionally, we investigated the effectiveness of the model under different experimental setups such comparing performance of model by changing the number of training epochs, using a different pre-processing\n",
        "method to extract data, ablation studies that do not include dynamic graph and transition functions.\n",
        "\n",
        "***This notebook describes the methods followed on reproducing the paper on [MIMIC III carevue dataset](https://physionet.org/content/mimic3-carevue/1.4/)***\n",
        "\n",
        "\n",
        "\n",
        "\n",
        "\n",
        "\n"
      ],
      "metadata": {
        "id": "9lAd4XW2mMUM"
      }
    },
    {
      "cell_type": "markdown",
      "source": [
        "# Initial setup"
      ],
      "metadata": {
        "id": "6yvXt0LbmLl1"
      }
    },
    {
      "cell_type": "code",
      "source": [
        "!git clone https://github.com/sanjayathreya/cs598dl4h-project\n",
        "!mv /content/cs598dl4h-project /content/CHET"
      ],
      "metadata": {
        "colab": {
          "base_uri": "https://localhost:8080/"
        },
        "id": "b4s6ws3xmOw3",
        "outputId": "16518913-e77d-4b3d-c6e5-4a8f1e561854"
      },
      "execution_count": null,
      "outputs": [
        {
          "output_type": "stream",
          "name": "stdout",
          "text": [
            "Cloning into 'cs598dl4h-project'...\n",
            "remote: Enumerating objects: 354, done.\u001b[K\n",
            "remote: Counting objects: 100% (33/33), done.\u001b[K\n",
            "remote: Compressing objects: 100% (28/28), done.\u001b[K\n",
            "remote: Total 354 (delta 21), reused 9 (delta 5), pack-reused 321\u001b[K\n",
            "Receiving objects: 100% (354/354), 14.74 MiB | 17.09 MiB/s, done.\n",
            "Resolving deltas: 100% (201/201), done.\n"
          ]
        }
      ]
    },
    {
      "cell_type": "markdown",
      "source": [
        "Please copy the files \n",
        "* paitients.csv\n",
        "* admissions.csv\n",
        "* diagnoses_icd.csv \n",
        "\n",
        "to\n",
        "* mimic3 folder /content/CHET/data/mimic3/raw/\n",
        "* mimic4 folder /content/CHET/data/mimic4/raw/"
      ],
      "metadata": {
        "id": "chCDCatKu9fj"
      }
    },
    {
      "cell_type": "code",
      "source": [
        "#@title This copy command needs to be updated to reproduce\n",
        "from google.colab import drive\n",
        "drive.mount('/content/drive')\n",
        "!cp -a /content/drive/MyDrive/CHET/data/mimic3/raw/ /content/CHET/data/mimic3/\n",
        "!cp -a /content/drive/MyDrive/CHET/data/mimic4/raw/ /content/CHET/data/mimic4/"
      ],
      "metadata": {
        "id": "Rybth0xtlxuI"
      },
      "execution_count": null,
      "outputs": []
    },
    {
      "cell_type": "code",
      "source": [
        "%cd /content/CHET/"
      ],
      "metadata": {
        "colab": {
          "base_uri": "https://localhost:8080/"
        },
        "id": "LX5dtYwD0a5y",
        "outputId": "90147870-b17b-44e6-de35-148dae46a595"
      },
      "execution_count": null,
      "outputs": [
        {
          "output_type": "stream",
          "name": "stdout",
          "text": [
            "/content/CHET\n"
          ]
        }
      ]
    },
    {
      "cell_type": "code",
      "source": [
        "!pip install -r requirements.txt"
      ],
      "metadata": {
        "id": "M8Ox1JXkVQ8z",
        "colab": {
          "base_uri": "https://localhost:8080/"
        },
        "outputId": "e85d27f5-fe91-44a8-c292-e05b85512371"
      },
      "execution_count": null,
      "outputs": [
        {
          "output_type": "stream",
          "name": "stdout",
          "text": [
            "Looking in indexes: https://pypi.org/simple, https://us-python.pkg.dev/colab-wheels/public/simple/\n",
            "Requirement already satisfied: joblib in /usr/local/lib/python3.10/dist-packages (from -r requirements.txt (line 1)) (1.2.0)\n",
            "Requirement already satisfied: numpy in /usr/local/lib/python3.10/dist-packages (from -r requirements.txt (line 2)) (1.22.4)\n",
            "Requirement already satisfied: pandas in /usr/local/lib/python3.10/dist-packages (from -r requirements.txt (line 3)) (1.5.3)\n",
            "Requirement already satisfied: Pillow in /usr/local/lib/python3.10/dist-packages (from -r requirements.txt (line 4)) (8.4.0)\n",
            "Requirement already satisfied: python-dateutil in /usr/local/lib/python3.10/dist-packages (from -r requirements.txt (line 5)) (2.8.2)\n",
            "Requirement already satisfied: pytz in /usr/local/lib/python3.10/dist-packages (from -r requirements.txt (line 6)) (2022.7.1)\n",
            "Requirement already satisfied: scikit-learn in /usr/local/lib/python3.10/dist-packages (from -r requirements.txt (line 7)) (1.2.2)\n",
            "Requirement already satisfied: scipy in /usr/local/lib/python3.10/dist-packages (from -r requirements.txt (line 8)) (1.10.1)\n",
            "Requirement already satisfied: six in /usr/local/lib/python3.10/dist-packages (from -r requirements.txt (line 9)) (1.16.0)\n",
            "Requirement already satisfied: threadpoolctl in /usr/local/lib/python3.10/dist-packages (from -r requirements.txt (line 10)) (3.1.0)\n",
            "Requirement already satisfied: torch in /usr/local/lib/python3.10/dist-packages (from -r requirements.txt (line 11)) (2.0.0+cu118)\n",
            "Requirement already satisfied: torchaudio in /usr/local/lib/python3.10/dist-packages (from -r requirements.txt (line 12)) (2.0.1+cu118)\n",
            "Requirement already satisfied: torchvision in /usr/local/lib/python3.10/dist-packages (from -r requirements.txt (line 13)) (0.15.1+cu118)\n",
            "Requirement already satisfied: typing-extensions in /usr/local/lib/python3.10/dist-packages (from -r requirements.txt (line 14)) (4.5.0)\n",
            "Collecting pyhealth\n",
            "  Downloading pyhealth-1.1.3-py2.py3-none-any.whl (113 kB)\n",
            "\u001b[2K     \u001b[90m━━━━━━━━━━━━━━━━━━━━━━━━━━━━━━━━━━━━━\u001b[0m \u001b[32m113.8/113.8 kB\u001b[0m \u001b[31m134.2 kB/s\u001b[0m eta \u001b[36m0:00:00\u001b[0m\n",
            "\u001b[?25hRequirement already satisfied: triton==2.0.0 in /usr/local/lib/python3.10/dist-packages (from torch->-r requirements.txt (line 11)) (2.0.0)\n",
            "Requirement already satisfied: jinja2 in /usr/local/lib/python3.10/dist-packages (from torch->-r requirements.txt (line 11)) (3.1.2)\n",
            "Requirement already satisfied: networkx in /usr/local/lib/python3.10/dist-packages (from torch->-r requirements.txt (line 11)) (3.1)\n",
            "Requirement already satisfied: filelock in /usr/local/lib/python3.10/dist-packages (from torch->-r requirements.txt (line 11)) (3.12.0)\n",
            "Requirement already satisfied: sympy in /usr/local/lib/python3.10/dist-packages (from torch->-r requirements.txt (line 11)) (1.11.1)\n",
            "Requirement already satisfied: cmake in /usr/local/lib/python3.10/dist-packages (from triton==2.0.0->torch->-r requirements.txt (line 11)) (3.25.2)\n",
            "Requirement already satisfied: lit in /usr/local/lib/python3.10/dist-packages (from triton==2.0.0->torch->-r requirements.txt (line 11)) (16.0.2)\n",
            "Requirement already satisfied: requests in /usr/local/lib/python3.10/dist-packages (from torchvision->-r requirements.txt (line 13)) (2.27.1)\n",
            "Collecting rdkit>=2022.03.4\n",
            "  Downloading rdkit-2023.3.1-cp310-cp310-manylinux_2_17_x86_64.manylinux2014_x86_64.whl (29.7 MB)\n",
            "\u001b[2K     \u001b[90m━━━━━━━━━━━━━━━━━━━━━━━━━━━━━━━━━━━━━━━━\u001b[0m \u001b[32m29.7/29.7 MB\u001b[0m \u001b[31m57.7 MB/s\u001b[0m eta \u001b[36m0:00:00\u001b[0m\n",
            "\u001b[?25hRequirement already satisfied: tqdm in /usr/local/lib/python3.10/dist-packages (from pyhealth->-r requirements.txt (line 15)) (4.65.0)\n",
            "Requirement already satisfied: MarkupSafe>=2.0 in /usr/local/lib/python3.10/dist-packages (from jinja2->torch->-r requirements.txt (line 11)) (2.1.2)\n",
            "Requirement already satisfied: charset-normalizer~=2.0.0 in /usr/local/lib/python3.10/dist-packages (from requests->torchvision->-r requirements.txt (line 13)) (2.0.12)\n",
            "Requirement already satisfied: certifi>=2017.4.17 in /usr/local/lib/python3.10/dist-packages (from requests->torchvision->-r requirements.txt (line 13)) (2022.12.7)\n",
            "Requirement already satisfied: urllib3<1.27,>=1.21.1 in /usr/local/lib/python3.10/dist-packages (from requests->torchvision->-r requirements.txt (line 13)) (1.26.15)\n",
            "Requirement already satisfied: idna<4,>=2.5 in /usr/local/lib/python3.10/dist-packages (from requests->torchvision->-r requirements.txt (line 13)) (3.4)\n",
            "Requirement already satisfied: mpmath>=0.19 in /usr/local/lib/python3.10/dist-packages (from sympy->torch->-r requirements.txt (line 11)) (1.3.0)\n",
            "Installing collected packages: rdkit, pyhealth\n",
            "Successfully installed pyhealth-1.1.3 rdkit-2023.3.1\n"
          ]
        }
      ]
    },
    {
      "cell_type": "markdown",
      "source": [
        "Change working directory to CHET/src"
      ],
      "metadata": {
        "id": "M14L0nwg6oc5"
      }
    },
    {
      "cell_type": "code",
      "source": [
        "%cd /content/CHET/src\n",
        "%pwd"
      ],
      "metadata": {
        "colab": {
          "base_uri": "https://localhost:8080/",
          "height": 53
        },
        "id": "lRowZYrvVTl0",
        "outputId": "3e9980a9-5f81-40aa-8945-f87c4551b80d"
      },
      "execution_count": null,
      "outputs": [
        {
          "output_type": "stream",
          "name": "stdout",
          "text": [
            "/content/CHET/src\n"
          ]
        },
        {
          "output_type": "execute_result",
          "data": {
            "text/plain": [
              "'/content/CHET/src'"
            ],
            "application/vnd.google.colaboratory.intrinsic+json": {
              "type": "string"
            }
          },
          "metadata": {},
          "execution_count": 5
        }
      ]
    },
    {
      "cell_type": "markdown",
      "source": [
        "# Preprocessing and dataset statistics"
      ],
      "metadata": {
        "id": "Yyw7Ez1d7riJ"
      }
    },
    {
      "cell_type": "markdown",
      "source": [
        "In order to preprocess MIMIC4dataset we need to copy over the mapping of ICD10CM to ICD9CM to the cache folder on the containerized colab environment."
      ],
      "metadata": {
        "id": "UvRMSyZT6uHY"
      }
    },
    {
      "cell_type": "code",
      "source": [
        "from pyhealth.medcode import CrossMap\n",
        "from pyhealth.datasets import MIMIC4Dataset,MIMIC3Dataset\n",
        "!cp /content/CHET/ICD10CM_to_ICD9CM.csv /root/.cache/pyhealth/medcode"
      ],
      "metadata": {
        "id": "m-rsPuT7VXMA"
      },
      "execution_count": null,
      "outputs": []
    },
    {
      "cell_type": "markdown",
      "source": [
        "At first, lets glance through the statistics of the dataset in parsed folder directly.\n"
      ],
      "metadata": {
        "id": "ovKgJHLv7A8Z"
      }
    },
    {
      "cell_type": "code",
      "source": [
        "from preprocess import *\n",
        "import os\n",
        "import pandas as pd\n",
        "\n",
        "data_path = os.path.join('..','data')\n",
        "datasets = ['mimic3','mimic4']\n",
        "res =[]\n",
        "for dataset_ in datasets:\n",
        "  parsed_main_path = os.path.join(data_path, dataset_, 'parsed')\n",
        "  patient_admission = pickle.load(open(os.path.join(parsed_main_path, 'patient_admission.pkl'), 'rb'))\n",
        "  admission_codes = pickle.load(open(os.path.join(parsed_main_path, 'admission_codes.pkl'), 'rb'))\n",
        "  df_ = get_stats_df(patient_admission, admission_codes)\n",
        "  df_['dataset'] = dataset_\n",
        "  res.append(df_)\n",
        "\n",
        "res = pd.concat(res)\n",
        "res"
      ],
      "metadata": {
        "colab": {
          "base_uri": "https://localhost:8080/",
          "height": 112
        },
        "id": "T0F-TGJO2U5W",
        "outputId": "e221126f-1431-41b7-a273-7f7d29e82381"
      },
      "execution_count": null,
      "outputs": [
        {
          "output_type": "execute_result",
          "data": {
            "text/plain": [
              "   # patients  # maximum visits  average # visits  max # diagnoses codes  \\\n",
              "0        2169                23          2.447211                     39   \n",
              "0       10000                93          3.794900                     39   \n",
              "\n",
              "   avg # diagnoses codes dataset  \n",
              "0              10.703090  mimic3  \n",
              "0              13.513479  mimic4  "
            ],
            "text/html": [
              "\n",
              "  <div id=\"df-f31f23aa-b961-4f70-9756-74f5c47434f0\">\n",
              "    <div class=\"colab-df-container\">\n",
              "      <div>\n",
              "<style scoped>\n",
              "    .dataframe tbody tr th:only-of-type {\n",
              "        vertical-align: middle;\n",
              "    }\n",
              "\n",
              "    .dataframe tbody tr th {\n",
              "        vertical-align: top;\n",
              "    }\n",
              "\n",
              "    .dataframe thead th {\n",
              "        text-align: right;\n",
              "    }\n",
              "</style>\n",
              "<table border=\"1\" class=\"dataframe\">\n",
              "  <thead>\n",
              "    <tr style=\"text-align: right;\">\n",
              "      <th></th>\n",
              "      <th># patients</th>\n",
              "      <th># maximum visits</th>\n",
              "      <th>average # visits</th>\n",
              "      <th>max # diagnoses codes</th>\n",
              "      <th>avg # diagnoses codes</th>\n",
              "      <th>dataset</th>\n",
              "    </tr>\n",
              "  </thead>\n",
              "  <tbody>\n",
              "    <tr>\n",
              "      <th>0</th>\n",
              "      <td>2169</td>\n",
              "      <td>23</td>\n",
              "      <td>2.447211</td>\n",
              "      <td>39</td>\n",
              "      <td>10.703090</td>\n",
              "      <td>mimic3</td>\n",
              "    </tr>\n",
              "    <tr>\n",
              "      <th>0</th>\n",
              "      <td>10000</td>\n",
              "      <td>93</td>\n",
              "      <td>3.794900</td>\n",
              "      <td>39</td>\n",
              "      <td>13.513479</td>\n",
              "      <td>mimic4</td>\n",
              "    </tr>\n",
              "  </tbody>\n",
              "</table>\n",
              "</div>\n",
              "      <button class=\"colab-df-convert\" onclick=\"convertToInteractive('df-f31f23aa-b961-4f70-9756-74f5c47434f0')\"\n",
              "              title=\"Convert this dataframe to an interactive table.\"\n",
              "              style=\"display:none;\">\n",
              "        \n",
              "  <svg xmlns=\"http://www.w3.org/2000/svg\" height=\"24px\"viewBox=\"0 0 24 24\"\n",
              "       width=\"24px\">\n",
              "    <path d=\"M0 0h24v24H0V0z\" fill=\"none\"/>\n",
              "    <path d=\"M18.56 5.44l.94 2.06.94-2.06 2.06-.94-2.06-.94-.94-2.06-.94 2.06-2.06.94zm-11 1L8.5 8.5l.94-2.06 2.06-.94-2.06-.94L8.5 2.5l-.94 2.06-2.06.94zm10 10l.94 2.06.94-2.06 2.06-.94-2.06-.94-.94-2.06-.94 2.06-2.06.94z\"/><path d=\"M17.41 7.96l-1.37-1.37c-.4-.4-.92-.59-1.43-.59-.52 0-1.04.2-1.43.59L10.3 9.45l-7.72 7.72c-.78.78-.78 2.05 0 2.83L4 21.41c.39.39.9.59 1.41.59.51 0 1.02-.2 1.41-.59l7.78-7.78 2.81-2.81c.8-.78.8-2.07 0-2.86zM5.41 20L4 18.59l7.72-7.72 1.47 1.35L5.41 20z\"/>\n",
              "  </svg>\n",
              "      </button>\n",
              "      \n",
              "  <style>\n",
              "    .colab-df-container {\n",
              "      display:flex;\n",
              "      flex-wrap:wrap;\n",
              "      gap: 12px;\n",
              "    }\n",
              "\n",
              "    .colab-df-convert {\n",
              "      background-color: #E8F0FE;\n",
              "      border: none;\n",
              "      border-radius: 50%;\n",
              "      cursor: pointer;\n",
              "      display: none;\n",
              "      fill: #1967D2;\n",
              "      height: 32px;\n",
              "      padding: 0 0 0 0;\n",
              "      width: 32px;\n",
              "    }\n",
              "\n",
              "    .colab-df-convert:hover {\n",
              "      background-color: #E2EBFA;\n",
              "      box-shadow: 0px 1px 2px rgba(60, 64, 67, 0.3), 0px 1px 3px 1px rgba(60, 64, 67, 0.15);\n",
              "      fill: #174EA6;\n",
              "    }\n",
              "\n",
              "    [theme=dark] .colab-df-convert {\n",
              "      background-color: #3B4455;\n",
              "      fill: #D2E3FC;\n",
              "    }\n",
              "\n",
              "    [theme=dark] .colab-df-convert:hover {\n",
              "      background-color: #434B5C;\n",
              "      box-shadow: 0px 1px 3px 1px rgba(0, 0, 0, 0.15);\n",
              "      filter: drop-shadow(0px 1px 2px rgba(0, 0, 0, 0.3));\n",
              "      fill: #FFFFFF;\n",
              "    }\n",
              "  </style>\n",
              "\n",
              "      <script>\n",
              "        const buttonEl =\n",
              "          document.querySelector('#df-f31f23aa-b961-4f70-9756-74f5c47434f0 button.colab-df-convert');\n",
              "        buttonEl.style.display =\n",
              "          google.colab.kernel.accessAllowed ? 'block' : 'none';\n",
              "\n",
              "        async function convertToInteractive(key) {\n",
              "          const element = document.querySelector('#df-f31f23aa-b961-4f70-9756-74f5c47434f0');\n",
              "          const dataTable =\n",
              "            await google.colab.kernel.invokeFunction('convertToInteractive',\n",
              "                                                     [key], {});\n",
              "          if (!dataTable) return;\n",
              "\n",
              "          const docLinkHtml = 'Like what you see? Visit the ' +\n",
              "            '<a target=\"_blank\" href=https://colab.research.google.com/notebooks/data_table.ipynb>data table notebook</a>'\n",
              "            + ' to learn more about interactive tables.';\n",
              "          element.innerHTML = '';\n",
              "          dataTable['output_type'] = 'display_data';\n",
              "          await google.colab.output.renderOutput(dataTable, element);\n",
              "          const docLink = document.createElement('div');\n",
              "          docLink.innerHTML = docLinkHtml;\n",
              "          element.appendChild(docLink);\n",
              "        }\n",
              "      </script>\n",
              "    </div>\n",
              "  </div>\n",
              "  "
            ]
          },
          "metadata": {},
          "execution_count": 7
        }
      ]
    },
    {
      "cell_type": "markdown",
      "source": [
        "Now, let us review the steps in parsing process for MIMIC III Carevue subset"
      ],
      "metadata": {
        "id": "-PcWZ1cG2gt9"
      }
    },
    {
      "cell_type": "code",
      "source": [
        "dataset = 'mimic3'\n",
        "data_path = os.path.join('..','testing')\n",
        "dataset_path = os.path.join(data_path,dataset)\n",
        "parsed_main_path = os.path.join(dataset_path, 'parsed')\n",
        "# initial setting to ex\n",
        "patient_admission, admission_codes = generate_parsed_datesets(dataset,parsed_main_path,ret_value=True)\n",
        "df = get_stats_df(patient_admission, admission_codes)\n",
        "df"
      ],
      "metadata": {
        "colab": {
          "base_uri": "https://localhost:8080/",
          "height": 277
        },
        "id": "-EWp7FS0-I4I",
        "outputId": "409cdcdf-7df1-4e04-cc8f-6efb1e590fd9"
      },
      "execution_count": null,
      "outputs": [
        {
          "output_type": "stream",
          "name": "stdout",
          "text": [
            "operating on path /content/CHET/src\n",
            "\n",
            "\n",
            "Loaded datasets in pyhealth\n",
            "\n"
          ]
        },
        {
          "output_type": "stream",
          "name": "stderr",
          "text": [
            "Creating Parsed datasets for each paitient: 100%|██████████| 23692/23692 [00:00<00:00, 168406.49it/s]"
          ]
        },
        {
          "output_type": "stream",
          "name": "stdout",
          "text": [
            "\n",
            "saving parsed data\n",
            "\n",
            "saved patient_admission data ...\n",
            "saved admission_codes data ...\n"
          ]
        },
        {
          "output_type": "stream",
          "name": "stderr",
          "text": [
            "\n"
          ]
        },
        {
          "output_type": "execute_result",
          "data": {
            "text/plain": [
              "   # patients  # maximum visits  average # visits  max # diagnoses codes  \\\n",
              "0        2169                23          2.447211                     39   \n",
              "\n",
              "   avg # diagnoses codes  \n",
              "0              10.702148  "
            ],
            "text/html": [
              "\n",
              "  <div id=\"df-bfef5422-9bd8-48e1-b586-35be30f8a7d6\">\n",
              "    <div class=\"colab-df-container\">\n",
              "      <div>\n",
              "<style scoped>\n",
              "    .dataframe tbody tr th:only-of-type {\n",
              "        vertical-align: middle;\n",
              "    }\n",
              "\n",
              "    .dataframe tbody tr th {\n",
              "        vertical-align: top;\n",
              "    }\n",
              "\n",
              "    .dataframe thead th {\n",
              "        text-align: right;\n",
              "    }\n",
              "</style>\n",
              "<table border=\"1\" class=\"dataframe\">\n",
              "  <thead>\n",
              "    <tr style=\"text-align: right;\">\n",
              "      <th></th>\n",
              "      <th># patients</th>\n",
              "      <th># maximum visits</th>\n",
              "      <th>average # visits</th>\n",
              "      <th>max # diagnoses codes</th>\n",
              "      <th>avg # diagnoses codes</th>\n",
              "    </tr>\n",
              "  </thead>\n",
              "  <tbody>\n",
              "    <tr>\n",
              "      <th>0</th>\n",
              "      <td>2169</td>\n",
              "      <td>23</td>\n",
              "      <td>2.447211</td>\n",
              "      <td>39</td>\n",
              "      <td>10.702148</td>\n",
              "    </tr>\n",
              "  </tbody>\n",
              "</table>\n",
              "</div>\n",
              "      <button class=\"colab-df-convert\" onclick=\"convertToInteractive('df-bfef5422-9bd8-48e1-b586-35be30f8a7d6')\"\n",
              "              title=\"Convert this dataframe to an interactive table.\"\n",
              "              style=\"display:none;\">\n",
              "        \n",
              "  <svg xmlns=\"http://www.w3.org/2000/svg\" height=\"24px\"viewBox=\"0 0 24 24\"\n",
              "       width=\"24px\">\n",
              "    <path d=\"M0 0h24v24H0V0z\" fill=\"none\"/>\n",
              "    <path d=\"M18.56 5.44l.94 2.06.94-2.06 2.06-.94-2.06-.94-.94-2.06-.94 2.06-2.06.94zm-11 1L8.5 8.5l.94-2.06 2.06-.94-2.06-.94L8.5 2.5l-.94 2.06-2.06.94zm10 10l.94 2.06.94-2.06 2.06-.94-2.06-.94-.94-2.06-.94 2.06-2.06.94z\"/><path d=\"M17.41 7.96l-1.37-1.37c-.4-.4-.92-.59-1.43-.59-.52 0-1.04.2-1.43.59L10.3 9.45l-7.72 7.72c-.78.78-.78 2.05 0 2.83L4 21.41c.39.39.9.59 1.41.59.51 0 1.02-.2 1.41-.59l7.78-7.78 2.81-2.81c.8-.78.8-2.07 0-2.86zM5.41 20L4 18.59l7.72-7.72 1.47 1.35L5.41 20z\"/>\n",
              "  </svg>\n",
              "      </button>\n",
              "      \n",
              "  <style>\n",
              "    .colab-df-container {\n",
              "      display:flex;\n",
              "      flex-wrap:wrap;\n",
              "      gap: 12px;\n",
              "    }\n",
              "\n",
              "    .colab-df-convert {\n",
              "      background-color: #E8F0FE;\n",
              "      border: none;\n",
              "      border-radius: 50%;\n",
              "      cursor: pointer;\n",
              "      display: none;\n",
              "      fill: #1967D2;\n",
              "      height: 32px;\n",
              "      padding: 0 0 0 0;\n",
              "      width: 32px;\n",
              "    }\n",
              "\n",
              "    .colab-df-convert:hover {\n",
              "      background-color: #E2EBFA;\n",
              "      box-shadow: 0px 1px 2px rgba(60, 64, 67, 0.3), 0px 1px 3px 1px rgba(60, 64, 67, 0.15);\n",
              "      fill: #174EA6;\n",
              "    }\n",
              "\n",
              "    [theme=dark] .colab-df-convert {\n",
              "      background-color: #3B4455;\n",
              "      fill: #D2E3FC;\n",
              "    }\n",
              "\n",
              "    [theme=dark] .colab-df-convert:hover {\n",
              "      background-color: #434B5C;\n",
              "      box-shadow: 0px 1px 3px 1px rgba(0, 0, 0, 0.15);\n",
              "      filter: drop-shadow(0px 1px 2px rgba(0, 0, 0, 0.3));\n",
              "      fill: #FFFFFF;\n",
              "    }\n",
              "  </style>\n",
              "\n",
              "      <script>\n",
              "        const buttonEl =\n",
              "          document.querySelector('#df-bfef5422-9bd8-48e1-b586-35be30f8a7d6 button.colab-df-convert');\n",
              "        buttonEl.style.display =\n",
              "          google.colab.kernel.accessAllowed ? 'block' : 'none';\n",
              "\n",
              "        async function convertToInteractive(key) {\n",
              "          const element = document.querySelector('#df-bfef5422-9bd8-48e1-b586-35be30f8a7d6');\n",
              "          const dataTable =\n",
              "            await google.colab.kernel.invokeFunction('convertToInteractive',\n",
              "                                                     [key], {});\n",
              "          if (!dataTable) return;\n",
              "\n",
              "          const docLinkHtml = 'Like what you see? Visit the ' +\n",
              "            '<a target=\"_blank\" href=https://colab.research.google.com/notebooks/data_table.ipynb>data table notebook</a>'\n",
              "            + ' to learn more about interactive tables.';\n",
              "          element.innerHTML = '';\n",
              "          dataTable['output_type'] = 'display_data';\n",
              "          await google.colab.output.renderOutput(dataTable, element);\n",
              "          const docLink = document.createElement('div');\n",
              "          docLink.innerHTML = docLinkHtml;\n",
              "          element.appendChild(docLink);\n",
              "        }\n",
              "      </script>\n",
              "    </div>\n",
              "  </div>\n",
              "  "
            ]
          },
          "metadata": {},
          "execution_count": 10
        }
      ]
    },
    {
      "cell_type": "markdown",
      "source": [
        "# Preprocessing Tasks"
      ],
      "metadata": {
        "id": "AIFlZFxeRkqE"
      }
    },
    {
      "cell_type": "markdown",
      "source": [
        "**Step 1**: Use Tokenizer object in pyhealth to encode admission codes"
      ],
      "metadata": {
        "id": "glcOFDJxSXyd"
      }
    },
    {
      "cell_type": "code",
      "source": [
        "seed =2\n",
        "dataset_path = os.path.join(data_path,dataset)\n",
        "encoded_path = os.path.join(dataset_path, 'encoded')\n",
        "standard_path = os.path.join(dataset_path, 'standard')\n",
        "max_admission_num = get_stats(patient_admission, admission_codes)\n",
        "\n",
        "patient_admission, admission_codes = generate_parsed_datesets(dataset,parsed_main_path,ret_value=True)\n",
        "\n",
        "# Generate code map and encode admission_codes\n",
        "codes = list(admission_codes.values())\n",
        "codes = list(set(flatten_list(codes)))\n",
        "tokenizer = Tokenizer(tokens=codes)\n",
        "code_map = tokenizer.vocabulary.token2idx\n",
        "admission_codes_encoded = { admission_id: list(set(tokenizer.convert_tokens_to_indices(codes))) for admission_id, codes in admission_codes.items() }\n",
        "code_num = len(code_map)\n",
        "print('There are %d codes' % code_num)"
      ],
      "metadata": {
        "colab": {
          "base_uri": "https://localhost:8080/"
        },
        "id": "6xkvwvpxRBYB",
        "outputId": "ec5f11a8-891e-49ac-dd6d-894704172ceb"
      },
      "execution_count": null,
      "outputs": [
        {
          "output_type": "stream",
          "name": "stdout",
          "text": [
            "patient num: 2169\n",
            "max admission num: 23\n",
            "mean admission num: 2.45\n",
            "max code num in an admission: 39\n",
            "mean code num in an admission: 10.70\n",
            "operating on path /content/CHET/src\n",
            "\n",
            "\n",
            "Loaded datasets in pyhealth\n",
            "\n"
          ]
        },
        {
          "output_type": "stream",
          "name": "stderr",
          "text": [
            "Creating Parsed datasets for each paitient: 100%|██████████| 23692/23692 [00:00<00:00, 195090.80it/s]"
          ]
        },
        {
          "output_type": "stream",
          "name": "stdout",
          "text": [
            "\n",
            "saving parsed data\n",
            "\n",
            "saved patient_admission data ...\n",
            "saved admission_codes data ...\n"
          ]
        },
        {
          "output_type": "stream",
          "name": "stderr",
          "text": [
            "\n"
          ]
        },
        {
          "output_type": "stream",
          "name": "stdout",
          "text": [
            "There are 2821 codes\n"
          ]
        }
      ]
    },
    {
      "cell_type": "markdown",
      "source": [
        "**Step 2**: Generate code levels. In this step we take the diagnoses codes for all admissions encode them into a 3 level hierarchy. This hiearchy is derived using ancestoral relationship in pyhealth. Where there are more than 3 levels , we force the hierarchy to three levels. The approach is similar to the one followed by the authors of the paper."
      ],
      "metadata": {
        "id": "chBBAigvTrDs"
      }
    },
    {
      "cell_type": "code",
      "source": [
        "# diagnosis code levels\n",
        "\n",
        "code_levels = generate_code_levels(code_map)\n",
        "print(\"\\ncompleted code levels\")\n",
        "code_levels[:2]"
      ],
      "metadata": {
        "colab": {
          "base_uri": "https://localhost:8080/"
        },
        "id": "zXCqGSLGTqD0",
        "outputId": "78ad5522-7b03-44a1-91c9-00b43e13bdb6"
      },
      "execution_count": null,
      "outputs": [
        {
          "output_type": "stream",
          "name": "stderr",
          "text": [
            "generating code level matrix for codes: 100%|██████████| 2821/2821 [00:00<00:00, 19977.39it/s]"
          ]
        },
        {
          "output_type": "stream",
          "name": "stdout",
          "text": [
            "\n",
            "completed code levels\n"
          ]
        },
        {
          "output_type": "stream",
          "name": "stderr",
          "text": [
            "\n"
          ]
        },
        {
          "output_type": "execute_result",
          "data": {
            "text/plain": [
              "array([[  8,  75, 384,   0],\n",
              "       [ 16, 125, 603,   1]])"
            ]
          },
          "metadata": {},
          "execution_count": 12
        }
      ]
    },
    {
      "cell_type": "markdown",
      "source": [
        "**Step3**: Split patients into Train , validation and test datasets. \n",
        "\n",
        "While performing the split , we ensure that all diagnoses codes are seen in the training set and the admission with maximum number of diagnosis codes are also included. The reason is to ensure no unseen codes in testing and ensure no out of memory exceptions during testing.\n",
        "\n",
        "After this step we save all encoded datasets to encoded folder for further processing."
      ],
      "metadata": {
        "id": "ldu9lhloUjnN"
      }
    },
    {
      "cell_type": "code",
      "source": [
        "# Split dataset to train , validation, test 80/10/10\n",
        "train_pids, valid_pids, test_pids  = split_patients(patient_admission, admission_codes, code_map, ratios=(.80,.10,.10), seed=seed)\n",
        "all_pids = { 'train_pids': train_pids, 'valid_pids': valid_pids, 'test_pids': test_pids }\n",
        "save_files(encoded_path, patient_admission =patient_admission, codes_encoded=admission_codes_encoded, code_map = code_map, pids = all_pids)"
      ],
      "metadata": {
        "colab": {
          "base_uri": "https://localhost:8080/"
        },
        "id": "iFFbItPAUdUI",
        "outputId": "93f24461-04dc-4fb7-f0ea-22930db41398"
      },
      "execution_count": null,
      "outputs": [
        {
          "output_type": "stream",
          "name": "stderr",
          "text": [
            "Split Paitents: 100%|██████████| 2821/2821 [00:00<00:00, 721735.49it/s]"
          ]
        },
        {
          "output_type": "stream",
          "name": "stdout",
          "text": [
            "Split patient_admission #: 2169 into \n",
            "\t Train #: 1735 \n",
            "\t Validation #: 218 \n",
            "\t Test #: 216\n",
            "saved patient_admission data ...\n",
            "saved codes_encoded data ...\n",
            "saved code_map data ...\n",
            "saved pids data ...\n"
          ]
        },
        {
          "output_type": "stream",
          "name": "stderr",
          "text": [
            "\n"
          ]
        }
      ]
    },
    {
      "cell_type": "markdown",
      "source": [
        "**Step5**: In this step, we generate the code code adjacency matrix   \n",
        "\n",
        "If a diagnosis code pair $(c_i, c_j)$, co-occurred in ***a*** patients visit then , two edges with $\\overrightarrow{(i,j)}$ and $\\overleftarrow{(i,j)}$  are recorded. These are asymmetric because the authors surmise that two diseases may not have equal influence on each other. $f_{ij}$ is the total co-occurrence frequency $(c_i, c_j)$ for **all** patient visits. In order to detect important disease relationships, they filter out combinations with low frequency. $\\Delta_i = {c_j | \n",
        "\\frac{f_{ij}}{\\sum_{j=1}^{d}f_{ij}} \\geq \\delta}$. This is stored in adjacency matrix $\\mathcal{A}$ which is static and measures global co-occurrence frequencies of diseases."
      ],
      "metadata": {
        "id": "Rcns-zzJVz3e"
      }
    },
    {
      "cell_type": "code",
      "source": [
        "# generate global adjacency matrix\n",
        "adj_matrix = generate_code_code_adjacent(train_pids, patient_admission, admission_codes_encoded, code_num, threshold=0.01)\n",
        "norm_adj_matrix = normalize_adj(adj_matrix)\n",
        "save_dict = {'code_adj': norm_adj_matrix}\n",
        "save_files(standard_path, type='standard', **save_dict)"
      ],
      "metadata": {
        "colab": {
          "base_uri": "https://localhost:8080/"
        },
        "id": "J13ocz5MVy2M",
        "outputId": "08d2ff8a-a14c-4c28-f1cb-26c8169f4203"
      },
      "execution_count": null,
      "outputs": [
        {
          "output_type": "stream",
          "name": "stderr",
          "text": [
            "generating global code code adjacent matrix: 100%|██████████| 1735/1735 [00:00<00:00, 4913.25it/s]\n"
          ]
        }
      ]
    },
    {
      "cell_type": "markdown",
      "source": [
        "**Step6**: In this step, there are 4 parts \n",
        "\n",
        "**Part 1** We build the X, Y and visit_lens matrices. \n",
        "\n",
        "\n",
        "*   For each patient X consists of paitient ids, admission codes encoded, and \n",
        "diagnosis codes X[pid, admission_number, encoded_diagnoses_id] except for the last visit.\n",
        "\n",
        "*   Y is a true label matrix of admission_number and last diagnosis code we would like to use for prediction. [admission_number, encoded_diagnoses_id]\n",
        "\n",
        "*  visit_lens is a number of admissions excluding last visit [len admissions -1]\n",
        "\n",
        "**Part 2** Build a code of neighbors $\\mathcal{N_{ij}^t}$\n",
        "\n",
        "$\\mathcal{N_{ij}^t} = \\mathcal{A_{ij}}$ if $(c_i, c_j)$ are two neighbors and are not diagnosed in visit t. Otherwise = 0\n",
        "\n",
        "**Part 3** Build matrices to store local diagnosis graph and global diagnosis-neigbor graphs which are bipartite, shown below digrammatically.\n",
        "\n",
        "**Part 4** Build Y matrix for heart failure prediction. The label for HF is 1 when diagnosis code is *428*"
      ],
      "metadata": {
        "id": "4xASeBdhWtlH"
      }
    },
    {
      "cell_type": "markdown",
      "source": [
        "![Graphs.jpg](data:image/jpeg;base64,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)"
      ],
      "metadata": {
        "id": "fwXahtwpWv9p"
      }
    },
    {
      "cell_type": "markdown",
      "source": [
        "\n",
        "\n",
        "![Graphs.jpg](data:image/jpeg;base64,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)\n",
        "\n"
      ],
      "metadata": {
        "id": "7N7LF-kVWlpT"
      }
    },
    {
      "cell_type": "markdown",
      "source": [],
      "metadata": {
        "id": "hZFPYOF7Wib7"
      }
    },
    {
      "cell_type": "code",
      "source": [
        "# generate all datasets\n",
        "datasets = ['train', 'valid', 'test' ]\n",
        "for idx, dataset in enumerate(datasets):\n",
        "  if dataset == 'train':\n",
        "    pids = train_pids\n",
        "  elif dataset == 'valid':\n",
        "    pids = valid_pids\n",
        "  else:\n",
        "    pids = test_pids\n",
        "  print(f'\\nprocessing standard data for {dataset}\\n')\n",
        "  (X, Y, visit_lens) = construct_x_y(pids, patient_admission, admission_codes_encoded, max_admission_num, code_num)\n",
        "  N_t = build_neighbor_codes(X, visit_lens, adj_matrix)\n",
        "  M_t = divide_disease_type_matrices(X, N_t, visit_lens)\n",
        "  Y_hf = construct_hf_label_y(Y, code_map)\n",
        "\n",
        "  std_path = os.path.join(standard_path, dataset)\n",
        "  save_dict = {'code_x': X, 'visit_lens': visit_lens , 'code_y': Y,\n",
        "              'hf_y': Y_hf, 'divided': M_t, 'neighbors': N_t}\n",
        "\n",
        "  print(f'\\nsaving standard data for {dataset}\\n')\n",
        "  save_files(std_path, type='standard', **save_dict )"
      ],
      "metadata": {
        "colab": {
          "base_uri": "https://localhost:8080/"
        },
        "id": "LylfWg1oWmZP",
        "outputId": "eaaf4adb-1b5e-438f-f306-ac2ba20fec40"
      },
      "execution_count": null,
      "outputs": [
        {
          "output_type": "stream",
          "name": "stdout",
          "text": [
            "\n",
            "processing standard data for train\n",
            "\n"
          ]
        },
        {
          "output_type": "stream",
          "name": "stderr",
          "text": [
            "building x, y matrices: 100%|██████████| 1735/1735 [00:00<00:00, 43694.08it/s]\n",
            "generating neighbors matrix: 100%|██████████| 1735/1735 [00:00<00:00, 4855.02it/s]\n",
            "generating divided matrices local, bipertite diagnoses-neighbor m_p,m_en,m_eu: 100%|██████████| 1735/1735 [00:00<00:00, 30981.35it/s]\n"
          ]
        },
        {
          "output_type": "stream",
          "name": "stdout",
          "text": [
            "\n",
            "saving standard data for train\n",
            "\n",
            "\n",
            "processing standard data for valid\n",
            "\n"
          ]
        },
        {
          "output_type": "stream",
          "name": "stderr",
          "text": [
            "building x, y matrices: 100%|██████████| 218/218 [00:00<00:00, 58117.22it/s]\n",
            "generating neighbors matrix: 100%|██████████| 218/218 [00:00<00:00, 5169.87it/s]\n",
            "generating divided matrices local, bipertite diagnoses-neighbor m_p,m_en,m_eu: 100%|██████████| 218/218 [00:00<00:00, 30839.43it/s]"
          ]
        },
        {
          "output_type": "stream",
          "name": "stdout",
          "text": [
            "\n",
            "saving standard data for valid\n",
            "\n"
          ]
        },
        {
          "output_type": "stream",
          "name": "stderr",
          "text": [
            "\n"
          ]
        },
        {
          "output_type": "stream",
          "name": "stdout",
          "text": [
            "\n",
            "processing standard data for test\n",
            "\n"
          ]
        },
        {
          "output_type": "stream",
          "name": "stderr",
          "text": [
            "building x, y matrices: 100%|██████████| 216/216 [00:00<00:00, 66434.68it/s]\n",
            "generating neighbors matrix: 100%|██████████| 216/216 [00:00<00:00, 5150.66it/s]\n",
            "generating divided matrices local, bipertite diagnoses-neighbor m_p,m_en,m_eu: 100%|██████████| 216/216 [00:00<00:00, 26905.73it/s]"
          ]
        },
        {
          "output_type": "stream",
          "name": "stdout",
          "text": [
            "\n",
            "saving standard data for test\n",
            "\n"
          ]
        },
        {
          "output_type": "stream",
          "name": "stderr",
          "text": [
            "\n"
          ]
        }
      ]
    },
    {
      "cell_type": "markdown",
      "source": [
        "# Model Construction\n",
        "\n",
        "## Layers\n",
        "\n",
        "### Embedding layer\n",
        "\n",
        "\n",
        "\n",
        "1.   Two embedding matrices $\\mathbf{M,N}$ of size $s$ are used to embed diseases and their neighbours. They are shown in the code below as c_embeddings and n_embeddings\n",
        "2.   Unrelated diseases are embedded in matrix $\\mathbf{R}$ of size of size $s^{\\prime}$. They are shown below in code as u_embeddings\n",
        "\n",
        " \n"
      ],
      "metadata": {
        "id": "O-UyDYuMFO-J"
      }
    },
    {
      "cell_type": "code",
      "source": [
        "import torch\n",
        "from torch import nn\n",
        "class EmbeddingLayer(nn.Module):\n",
        "    def __init__(self, code_num, code_size, graph_size):\n",
        "        super().__init__()\n",
        "        self.code_num = code_num\n",
        "        self.c_embeddings = nn.Parameter(data=nn.init.xavier_uniform_(torch.empty(code_num, code_size)))\n",
        "        self.n_embeddings = nn.Parameter(data=nn.init.xavier_uniform_(torch.empty(code_num, code_size)))\n",
        "        self.u_embeddings = nn.Parameter(data=nn.init.xavier_uniform_(torch.empty(code_num, graph_size)))\n",
        "\n",
        "    def forward(self):\n",
        "        return self.c_embeddings, self.n_embeddings, self.u_embeddings"
      ],
      "metadata": {
        "id": "-tCB2iZSJlFA"
      },
      "execution_count": null,
      "outputs": []
    },
    {
      "cell_type": "markdown",
      "source": [
        "### Graph layer\n",
        "A graph neural network GNN is used to learn diagnosis and its neighbours that may influence future visits. The graph layer is summarized as \n",
        "\n",
        "$$\n",
        "\\mathbf{Z}^t_D = \\mathbf{m}^t \\odot \\mathbf{M} + \\underbrace{\\mathcal{M}_t\\mathbf{M}}_{\\text{local context}} +\\underbrace{ \\mathcal{B}_t\\mathbf{N}}_{\\text{diagnosis global context}}\n",
        "$$\n",
        "$$\\mathbf{Z}^t_N = \\mathbf{n}^t \\odot \\mathbf{N} + \\underbrace{\\mathcal{N}_t\\mathbf{N} + \\mathcal{\\hat{B}}_t\\mathbf{M}}_{\\text{neighbor global context}}\n",
        "$$\n",
        "\n",
        "The authors prove that these multiplications can be simplified further,\n",
        "\n",
        "$$\\mathcal{B}_t\\mathbf{N} = \\mathcal{m_t} \\odot (\\mathcal{A} (\\mathcal{n_t} \\odot \\mathbf{N}))$$\n",
        "\n",
        "$$\\mathcal{M}_t\\mathbf{N} = \\mathcal{m_t} \\odot (\\mathcal{A} (\\mathcal{m_t} \\odot \\mathbf{N}))$$\n",
        "\n",
        "$$\\mathcal{N}_t\\mathbf{N} = \\mathcal{n_t} \\odot (\\mathcal{A} (\\mathcal{n_t} \\odot \\mathbf{N}))$$\n",
        "\n",
        "$$\\mathcal{\\hat{B}}_t\\mathbf{M} = \\mathcal{n_t} \\odot (\\mathcal{A} (\\mathcal{n_t} \\odot \\mathbf{M}))$$\n",
        "\n",
        "$\\odot$ signifies elementwise multiplication. The hidden embeddings of diagnoses and neighbors, i.e., GNN outputs, are calculated with a fully connected layer , $\\mathbf{W}$ is the weight matrix.\n",
        "$$\n",
        "\\mathbf{H}^t_{{D,N}} = \\text{LeakyReLU} (\\mathbf{Z}^t_{{D,N}} \\mathbf{W})\n",
        "$$"
      ],
      "metadata": {
        "id": "8sQVif0vKP-j"
      }
    },
    {
      "cell_type": "code",
      "source": [
        "class GraphLayer(nn.Module):\n",
        "    def __init__(self, adj, code_size, graph_size):\n",
        "        super().__init__()\n",
        "        self.adj = adj\n",
        "        self.dense = nn.Linear(code_size, graph_size)\n",
        "        self.activation = nn.LeakyReLU()\n",
        "\n",
        "    def forward(self, code_x, neighbor, c_embeddings, n_embeddings):\n",
        "        center_codes = torch.unsqueeze(code_x, dim=-1)\n",
        "        neighbor_codes = torch.unsqueeze(neighbor, dim=-1)\n",
        "\n",
        "        center_embeddings = center_codes * c_embeddings\n",
        "        neighbor_embeddings = neighbor_codes * n_embeddings\n",
        "        cc_embeddings = center_codes * torch.matmul(self.adj, center_embeddings)\n",
        "        cn_embeddings = center_codes * torch.matmul(self.adj, neighbor_embeddings)\n",
        "        nn_embeddings = neighbor_codes * torch.matmul(self.adj, neighbor_embeddings)\n",
        "        nc_embeddings = neighbor_codes * torch.matmul(self.adj, center_embeddings)\n",
        "\n",
        "        co_embeddings = self.activation(self.dense(center_embeddings + cc_embeddings + cn_embeddings))\n",
        "        no_embeddings = self.activation(self.dense(neighbor_embeddings + nn_embeddings + nc_embeddings))\n",
        "        return co_embeddings, no_embeddings"
      ],
      "metadata": {
        "id": "MEgFWrRgJcC7"
      },
      "execution_count": null,
      "outputs": []
    },
    {
      "cell_type": "markdown",
      "source": [
        "### Transition functions\n",
        "\n",
        "For the diagnosis vector $m_t$ in visit t, when t $\\geq$ 2, the authors divide $m_t$ into three disjoint parts \n",
        "1.    Persistent diseases $m^t_p$, those are noses in visit $t$ that are also diagnoses in previous visit $t$-1.\n",
        "2.    Emerging diseases $m^t_{en}$, Diagnoses in visit $t$ that are neighbors in visit $t$-1.\n",
        "3.   Emerging unrelated diseases} $m^t_{eu}$, Diagnoses in visit $t$ that are unrelated diseases in visit $t$-1.\n",
        "\n",
        "To perform temporal learning on diagnoses, the paper proposed are 3 separate transition functions. It is pictorially represented below\n",
        "\n",
        "The hidden states, \n",
        "1.   $h^t_{en}$  \n",
        "2.   $h^t_{eu}$ are computed using scaled dot product attention ([Vaswani2017Attention](https://arxiv.org/abs/1706.03762))\n",
        "and $a$ is the attention size. \n",
        "\n",
        "In the attention layer, \n",
        "*   For $h^t_{en}$ we use hidden neighbor embeddings $h^{t-1}_{N}$ query Q and key K. \n",
        "*   For $h^t_{eu}$ we use universal embeddings of unrelated diseases as Q and K.\n",
        "\n",
        "For both  hidden diagnosis embeddings $H^t_D$ is used as value V in attention\n",
        "\n",
        "3.    The transition function to model $h^t_{p}$ is computed by means of a Modified-GRU(M-GRU) which takes in hidden embeddings $H^t_D$ of diagnoses in visit $t$, transition outputs $h^t_{en}$ and $h^t_{eu}$ of emerging diseases in visit $t$, and the hidden state as well as the M-GRU output $h^{t-1}_{p}$. Besides making the original GRU work for matrices, the M-GRU  is modified in a way that it applies a $tanh$ activation function to hidden state of emerging diseases. Subsequently, they store the hidden state of emerging diseases to the hidden state of persistent diseases for the next visit.\n",
        "\n"
      ],
      "metadata": {
        "id": "tFZOrhXbMskq"
      }
    },
    {
      "cell_type": "markdown",
      "source": [
        "![transition layers.jpg](data:image/jpeg;base64,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)"
      ],
      "metadata": {
        "id": "HpM_BGlnVDKf"
      }
    },
    {
      "cell_type": "code",
      "source": [
        "from attention import SingleHeadAttentionLayer\n",
        "\n",
        "class TransitionLayer(nn.Module):\n",
        "    def __init__(self, code_num, graph_size, hidden_size, t_attention_size, t_output_size):\n",
        "        super().__init__()\n",
        "        self.gru = nn.GRUCell(input_size=graph_size, hidden_size=hidden_size)\n",
        "        self.single_head_attention = SingleHeadAttentionLayer(graph_size, graph_size, t_output_size, t_attention_size)\n",
        "        self.activation = nn.Tanh()\n",
        "\n",
        "        self.code_num = code_num\n",
        "        self.hidden_size = hidden_size\n",
        "\n",
        "    def forward(self, t, co_embeddings, divided, no_embeddings, unrelated_embeddings, hidden_state=None):\n",
        "        m1, m2, m3 = divided[:, 0], divided[:, 1], divided[:, 2]\n",
        "        m1_index = torch.where(m1 > 0)[0]\n",
        "        m2_index = torch.where(m2 > 0)[0]\n",
        "        m3_index = torch.where(m3 > 0)[0]\n",
        "        h_new = torch.zeros((self.code_num, self.hidden_size), dtype=co_embeddings.dtype).to(co_embeddings.device)\n",
        "        output_m1 = 0\n",
        "        output_m23 = 0\n",
        "        if len(m1_index) > 0:\n",
        "            m1_embedding = co_embeddings[m1_index]\n",
        "            h = hidden_state[m1_index] if hidden_state is not None else None\n",
        "            h_m1 = self.gru(m1_embedding, h)\n",
        "            h_new[m1_index] = h_m1\n",
        "            output_m1, _ = torch.max(h_m1, dim=-2)\n",
        "        if t > 0 and len(m2_index) + len(m3_index) > 0:\n",
        "            q = torch.vstack([no_embeddings[m2_index], unrelated_embeddings[m3_index]])\n",
        "            v = torch.vstack([co_embeddings[m2_index], co_embeddings[m3_index]])\n",
        "            h_m23 = self.activation(self.single_head_attention(q, q, v))\n",
        "            h_new[m2_index] = h_m23[:len(m2_index)]\n",
        "            h_new[m3_index] = h_m23[len(m2_index):]\n",
        "            output_m23, _ = torch.max(h_m23, dim=-2)\n",
        "        if len(m1_index) == 0:\n",
        "            output = output_m23\n",
        "        elif len(m2_index) + len(m3_index) == 0:\n",
        "            output = output_m1\n",
        "        else:\n",
        "            output, _ = torch.max(torch.vstack([output_m1, output_m23]), dim=-2)\n",
        "        return output, h_new"
      ],
      "metadata": {
        "id": "OXfPNmTZJyg7"
      },
      "execution_count": null,
      "outputs": []
    },
    {
      "cell_type": "markdown",
      "source": [
        "### Final Model\n",
        "\n",
        "The authors use max pooling for the transition output of the three parts and calculate the visit embedding $v_t$. In the final step, to calculate patient embedding $o$ for all visits, they use location-based attention [Luong2015EffectiveAT](https://arxiv.org/abs/1508.04025). This is used in a classifier for final predictions of a specific task. \n",
        "\n",
        "The model uses a fully connected layer with a sigmoid activation function as the classifier and a binary cross entropy loss as the objective function."
      ],
      "metadata": {
        "id": "_65WYbK0Xdrw"
      }
    },
    {
      "cell_type": "code",
      "source": [
        "from attention import DotProductAttention\n",
        "\n",
        "class Classifier(nn.Module):\n",
        "    def __init__(self, input_size, output_size, dropout_rate=0., activation=None):\n",
        "        super().__init__()\n",
        "        self.linear = nn.Linear(input_size, output_size)\n",
        "        self.activation = activation\n",
        "        self.dropout = nn.Dropout(p=dropout_rate)\n",
        "\n",
        "    def forward(self, x):\n",
        "        output = self.dropout(x)\n",
        "        output = self.linear(output)\n",
        "        if self.activation is not None:\n",
        "            output = self.activation(output)\n",
        "        return output\n",
        "\n",
        "\n",
        "class Model(nn.Module):\n",
        "    def __init__(self, code_num, code_size,\n",
        "                 adj, graph_size, hidden_size, t_attention_size, t_output_size,\n",
        "                 output_size, dropout_rate, activation):\n",
        "        super().__init__()\n",
        "        print('Model')\n",
        "        self.embedding_layer = EmbeddingLayer(code_num, code_size, graph_size)\n",
        "        self.graph_layer = GraphLayer(adj, code_size, graph_size)\n",
        "        self.transition_layer = TransitionLayer(code_num, graph_size, hidden_size, t_attention_size, t_output_size)\n",
        "        self.attention = DotProductAttention(hidden_size, 32)\n",
        "        self.classifier = Classifier(hidden_size, output_size, dropout_rate, activation)\n",
        "\n",
        "    def forward(self, code_x, divided, neighbors, lens):\n",
        "        embeddings = self.embedding_layer()\n",
        "        c_embeddings, n_embeddings, u_embeddings = embeddings\n",
        "        output = []\n",
        "        for code_x_i, divided_i, neighbor_i, len_i in zip(code_x, divided, neighbors, lens):\n",
        "            no_embeddings_i_prev = None\n",
        "            output_i = []\n",
        "            h_t = None\n",
        "            for t, (c_it, d_it, n_it, len_it) in enumerate(zip(code_x_i, divided_i, neighbor_i, range(len_i))):\n",
        "                co_embeddings, no_embeddings = self.graph_layer(c_it, n_it, c_embeddings, n_embeddings)\n",
        "                output_it, h_t = self.transition_layer(t, co_embeddings, d_it, no_embeddings_i_prev, u_embeddings, h_t)\n",
        "                no_embeddings_i_prev = no_embeddings\n",
        "                output_i.append(output_it)\n",
        "            output_i = self.attention(torch.vstack(output_i))\n",
        "            output.append(output_i)\n",
        "        output = torch.vstack(output)\n",
        "        output = self.classifier(output)\n",
        "        return output"
      ],
      "metadata": {
        "id": "MxR-q6aDXrBd"
      },
      "execution_count": null,
      "outputs": []
    },
    {
      "cell_type": "markdown",
      "source": [
        "# Training\n",
        "\n",
        "## Parameters\n",
        "\n",
        "*   In the base implementation, the hyper-parameters as well as activation functions are tuned on the validation set. \n",
        "*   The initial **learning rate** is set to 0.01. A multi-step LR scheduler methodology is used where the learning rate decays by [1e-3, 1e-5] at the milestones $[20, 30]$ respectively on diagnosis prediction. \n",
        "*   This is modified to [1e-3, 1e-4, 1e-5] at the milestones $[2, 3, 20]$ respectively for heart failure prediction. **Batch size is 32**. \n",
        "*   The remaining parameters are described below\n",
        "\n",
        "| Parameter                           | MIMIC III | MIMIC IV |\n",
        "|-------------------------------------|-----------|----------|\n",
        "| Node frequency threshold $\\delta$   | 0.01      | 0.01     |\n",
        "| Embedding size $s$ for $M$, $N$     | 48        | 48       |\n",
        "| Embedding size $s^{\\prime}$ for $R$ | 32        | 32       |\n",
        "| Attention size $a$                  | 32        | 32       |\n",
        "| Hidden units diag pred.             | 256       | 350      |\n",
        "| Hidden units HF pred.               | 100       | 150      |\n"
      ],
      "metadata": {
        "id": "SDEPK3ojLD4O"
      }
    },
    {
      "cell_type": "code",
      "source": [
        "import random\n",
        "import time\n",
        "import numpy as np\n",
        "from utils import load_adj, EHRDataset, format_time, MultiStepLRScheduler\n",
        "from metrics import evaluate_codes, evaluate_hf\n",
        "from config import config\n",
        "from train import historical_hot\n",
        "\n",
        "model = 'base-model'\n",
        "datasets = ['mimic3'] # ['mimic3', 'mimic4']\n",
        "task = 'h' # 'h'or 'm'\n",
        "seeds = [2000]\n",
        "\n",
        "\n",
        "\n",
        "use_cuda = True\n",
        "device = torch.device('cuda' if torch.cuda.is_available() and use_cuda else 'cpu')\n",
        "config, code_size, graph_size, t_attention_size, batch_size, epochs = config()\n",
        "epochs = 11 # override epochs for this exercise\n",
        "\n",
        "milestones = [2, 3, 10]  #override MRlearning milestones\n",
        "lrs= [1e-3, 1e-4, 1e-5] #override MRlearning learning rates\n",
        "\n",
        "res = []\n",
        "for dataset in datasets:\n",
        "  for idx, seed in enumerate(seeds):\n",
        "      random.seed(seed)\n",
        "      np.random.seed(seed)\n",
        "      torch.manual_seed(seed)\n",
        "      torch.cuda.manual_seed(seed)\n",
        "\n",
        "      dataset_path = os.path.join('..','testing', dataset, 'standard')\n",
        "      train_path = os.path.join(dataset_path, 'train')\n",
        "      valid_path = os.path.join(dataset_path, 'valid')\n",
        "\n",
        "      code_adj = load_adj(dataset_path, device=device)\n",
        "      code_num = len(code_adj)\n",
        "      print('loading train data ...')\n",
        "      train_data = EHRDataset(train_path, label=task, batch_size=batch_size, shuffle=True, device=device)\n",
        "      print('loading valid data ...')\n",
        "      valid_data = EHRDataset(valid_path, label=task, batch_size=batch_size, shuffle=False, device=device)\n",
        "\n",
        "\n",
        "      test_historical = historical_hot(valid_data.code_x, code_num, valid_data.visit_lens)\n",
        "\n",
        "      if task == 'm':\n",
        "          output_size = code_num\n",
        "      else:\n",
        "          output_size = 1\n",
        "\n",
        "      activation = torch.nn.Sigmoid()\n",
        "      loss_fn = torch.nn.BCELoss()\n",
        "      evaluate_fn = config[task]['evaluate_fn']\n",
        "      dropout_rate = config[task]['dropout']\n",
        "      hidden_size = config[task]['hidden_size'][dataset]\n",
        "      t_output_size = hidden_size\n",
        "\n",
        "      if model == 'base-model':\n",
        "          print('Calling Base Model')\n",
        "          param_path = os.path.join('..','testing', 'params', dataset, task, str(idx))\n",
        "          model = Model(code_num=code_num, code_size=code_size,\n",
        "                        adj=code_adj, graph_size=graph_size, hidden_size=hidden_size,\n",
        "                        t_attention_size=t_attention_size,\n",
        "                        t_output_size=t_output_size,\n",
        "                        output_size=output_size, dropout_rate=dropout_rate, activation=activation).to(device)\n",
        "\n",
        "      if not os.path.exists(param_path):\n",
        "          os.makedirs(param_path)\n",
        "\n",
        "      optimizer = torch.optim.Adam(model.parameters(), lr=0.01)\n",
        "      scheduler = MultiStepLRScheduler(optimizer, epochs, config[task]['lr']['init_lr'],\n",
        "                                        milestones, lrs)\n",
        "\n",
        "      pytorch_total_params = sum(p.numel() for p in model.parameters() if p.requires_grad)\n",
        "      print(pytorch_total_params)\n",
        "\n",
        "      train_start_time = time.time()\n",
        "      for epoch in range(epochs):\n",
        "          print('Epoch %d / %d:' % (epoch + 1, epochs))\n",
        "          model.train()\n",
        "          total_loss = 0.0\n",
        "          total_num = 0\n",
        "          steps = len(train_data)\n",
        "          st = time.time()\n",
        "          scheduler.step()\n",
        "          for step in range(len(train_data)):\n",
        "              optimizer.zero_grad()\n",
        "              code_x, visit_lens, divided, y, neighbors = train_data[step]\n",
        "              output = model(code_x, divided, neighbors, visit_lens).squeeze()\n",
        "              loss = loss_fn(output, y)\n",
        "              loss.backward()\n",
        "              optimizer.step()\n",
        "              total_loss += loss.item() * output_size * len(code_x)\n",
        "              total_num += len(code_x)\n",
        "\n",
        "              end_time = time.time()\n",
        "              remaining_time = format_time((end_time - st) / (step + 1) * (steps - step - 1))\n",
        "              print('\\r    Step %d / %d, remaining time: %s, loss: %.4f'\n",
        "                    % (step + 1, steps, remaining_time, total_loss / total_num), end='')\n",
        "          train_data.on_epoch_end()\n",
        "          et = time.time()\n",
        "          time_cost = format_time(et - st)\n",
        "          print('\\r    Step %d / %d, time cost: %s, loss: %.4f' % (\n",
        "          steps, steps, time_cost, total_loss / total_num))\n",
        "          valid_loss, f1_score = evaluate_fn(model, valid_data, loss_fn, output_size, test_historical)\n",
        "          torch.save(model.state_dict(), os.path.join(param_path, '%d.pt' % epoch))\n",
        "\n",
        "      train_end_time = time.time()\n",
        "      result = {\n",
        "          'dataset_name': dataset,\n",
        "          'sample': task,\n",
        "          'seed#': seed,\n",
        "          'seed_idx': idx,\n",
        "          'total_params': pytorch_total_params,\n",
        "          'train_time': (train_end_time - train_start_time)\n",
        "      }\n",
        "      df_ = pd.DataFrame(result, index=[0])\n",
        "      res.append(df_)\n",
        "      print(f'\\n******Completed training dataset:{dataset} task:{task} seed:{seed} idx:{idx} time: {format_time(train_end_time - train_start_time)}******\\n')\n",
        "\n",
        "df = pd.concat(res)\n",
        "# Write preprocessing time to output directory\n",
        "output_dir = os.path.join('..','testing','out')\n",
        "if not os.path.exists(output_dir):\n",
        "  os.makedirs(output_dir)\n",
        "output_file = os.path.join(output_dir,'output_training.csv')\n",
        "\n",
        "df.to_csv(output_file, index=False)"
      ],
      "metadata": {
        "colab": {
          "base_uri": "https://localhost:8080/"
        },
        "id": "GuG6NSgKZ1vA",
        "outputId": "ffd3aa70-abb1-4911-8ed1-f11b5b29b8e5"
      },
      "execution_count": null,
      "outputs": [
        {
          "output_type": "stream",
          "name": "stdout",
          "text": [
            "loading train data ...\n",
            "loading valid data ...\n",
            "Calling Base Model\n",
            "Model\n",
            "411633\n",
            "Epoch 1 / 11:\n",
            "    Step 55 / 55, time cost: 8.3s, loss: 0.6083\n",
            "    Evaluation: loss: 0.6584 --- auc: 0.7044 --- f1_score: 0.5684\n",
            "Epoch 2 / 11:\n",
            "    Step 55 / 55, time cost: 8.1s, loss: 0.4910\n",
            "    Evaluation: loss: 0.6237 --- auc: 0.7153 --- f1_score: 0.5309\n",
            "Epoch 3 / 11:\n",
            "    Step 55 / 55, time cost: 8.0s, loss: 0.4636\n",
            "    Evaluation: loss: 0.6246 --- auc: 0.7162 --- f1_score: 0.5309\n",
            "Epoch 4 / 11:\n",
            "    Step 55 / 55, time cost: 8.2s, loss: 0.4605\n",
            "    Evaluation: loss: 0.6258 --- auc: 0.7163 --- f1_score: 0.5309\n",
            "Epoch 5 / 11:\n",
            "    Step 55 / 55, time cost: 8.1s, loss: 0.4571\n",
            "    Evaluation: loss: 0.6271 --- auc: 0.7162 --- f1_score: 0.5309\n",
            "Epoch 6 / 11:\n",
            "    Step 55 / 55, time cost: 8.0s, loss: 0.4539\n",
            "    Evaluation: loss: 0.6278 --- auc: 0.7162 --- f1_score: 0.5276\n",
            "Epoch 7 / 11:\n",
            "    Step 55 / 55, time cost: 8.1s, loss: 0.4508\n",
            "    Evaluation: loss: 0.6298 --- auc: 0.7161 --- f1_score: 0.5366\n",
            "Epoch 8 / 11:\n",
            "    Step 55 / 55, time cost: 8.1s, loss: 0.4474\n",
            "    Evaluation: loss: 0.6301 --- auc: 0.7155 --- f1_score: 0.5422\n",
            "Epoch 9 / 11:\n",
            "    Step 55 / 55, time cost: 8.0s, loss: 0.4444\n",
            "    Evaluation: loss: 0.6306 --- auc: 0.7162 --- f1_score: 0.5333\n",
            "Epoch 10 / 11:\n",
            "    Step 55 / 55, time cost: 8.1s, loss: 0.4417\n",
            "    Evaluation: loss: 0.6307 --- auc: 0.7160 --- f1_score: 0.5333\n",
            "Epoch 11 / 11:\n",
            "    Step 55 / 55, time cost: 8.2s, loss: 0.4414\n",
            "    Evaluation: loss: 0.6308 --- auc: 0.7156 --- f1_score: 0.5333\n",
            "\n",
            "******Completed training dataset:mimic3 task:h seed:2000 idx:0 time: 1m36.0s******\n",
            "\n"
          ]
        }
      ]
    },
    {
      "cell_type": "markdown",
      "source": [
        "### Evaluation"
      ],
      "metadata": {
        "id": "XPqoSYMOnTPV"
      }
    },
    {
      "cell_type": "code",
      "source": [
        "from eval import eval_hf, eval_diag, get_dataset_tensors\n",
        "datasets = [ 'mimic3'] #['mimic3', 'mimic4']  \n",
        "tasks = ['h'] # 'm' or 'h'\n",
        "use_cuda = True\n",
        "device = torch.device('cuda' if torch.cuda.is_available() and use_cuda else 'cpu')\n",
        "\n",
        "# Model Parameters\n",
        "code_size = 48\n",
        "graph_size = 32\n",
        "t_attention_size = 32\n",
        "batch_size = 1\n",
        "epochs = 200\n",
        "\n",
        "task_conf = {\n",
        "    'm': {\n",
        "        'dropout': 0.45,\n",
        "        'evaluate_fn': eval_diag,\n",
        "        'hidden_size_mimic3': 256,\n",
        "        'hidden_size_mimic4': 350,\n",
        "    },\n",
        "    'h': {\n",
        "        'dropout': 0.0,\n",
        "        'evaluate_fn': eval_hf,\n",
        "        'hidden_size_mimic3': 100,\n",
        "        'hidden_size_mimic4': 150,\n",
        "    }\n",
        "}\n",
        "seeds = [2000]\n",
        "restask_h =[]\n",
        "restask_m = []\n",
        "for task in tasks:\n",
        "    for dataset in datasets:\n",
        "        for idx, seed in enumerate(seeds):\n",
        "            print('loading test data ...')\n",
        "            dataset_path = os.path.join('..','testing', dataset, 'standard')\n",
        "            test_path = os.path.join(dataset_path, 'test')\n",
        "            train_path = os.path.join(dataset_path, 'train')\n",
        "            valid_path = os.path.join(dataset_path, 'valid')\n",
        "            print('loading code_adj ...')\n",
        "            code_adj = load_adj(dataset_path, device=device)\n",
        "            code_num = len(code_adj)\n",
        "            print(f'code_adj size {code_num}')\n",
        "\n",
        "            test_data = EHRDataset(test_path, label=task, batch_size=batch_size, shuffle=False, device=device)\n",
        "            test_historical = historical_hot(test_data.code_x, code_num, test_data.visit_lens)\n",
        "            train_data = EHRDataset(train_path, label=task, batch_size=batch_size, shuffle=False, device=device)\n",
        "            valid_data = EHRDataset(valid_path, label=task, batch_size=batch_size, shuffle=False, device=device)\n",
        "\n",
        "            print(f'train {np.count_nonzero(train_data.y == 1)}')\n",
        "            print(f'test {np.count_nonzero(test_data.y == 1)}')\n",
        "            print(f'valid {np.count_nonzero(valid_data.y == 1)}')\n",
        "\n",
        "            if dataset == 'mimic3':\n",
        "                hidden_size = task_conf[task]['hidden_size_mimic3']\n",
        "            else:\n",
        "                hidden_size = task_conf[task]['hidden_size_mimic4']\n",
        "\n",
        "            activation = torch.nn.Sigmoid()\n",
        "            evaluate_fn = task_conf[task]['evaluate_fn']\n",
        "            dropout_rate = task_conf[task]['dropout']\n",
        "\n",
        "            if task == 'm':\n",
        "                output_size = code_num\n",
        "            else:\n",
        "                output_size = 1\n",
        "\n",
        "            t_output_size = hidden_size\n",
        "            model = Model(code_num=code_num, code_size=code_size,\n",
        "                          adj=code_adj, graph_size=graph_size, hidden_size=hidden_size, t_attention_size=t_attention_size,\n",
        "                          t_output_size=t_output_size,\n",
        "                          output_size=output_size, dropout_rate=dropout_rate, activation=activation).to(device)\n",
        "\n",
        "            param_path = os.path.join('..','testing', 'params', dataset, task,str(idx))\n",
        "\n",
        "            indices = [10]#,50,75,100]\n",
        "\n",
        "            for index in indices:\n",
        "                model_to_load = os.path.join(param_path, '%d.pt' % (index-1) )\n",
        "                model.load_state_dict(torch.load(model_to_load, map_location=device))\n",
        "                res = evaluate_fn(model, test_data, dataset, task, index, test_historical )\n",
        "                if task == 'h':\n",
        "                    restask_h.append(res)\n",
        "\n",
        "                else:\n",
        "                    restask_m.append(res)\n",
        "\n",
        "output_dir = os.path.join('..','testing','out')\n",
        "if not os.path.exists(output_dir):\n",
        "  os.makedirs(output_dir)\n",
        "\n",
        "if task == 'm':\n",
        "    df_task_m = pd.concat(restask_m)\n",
        "    result_task_m = os.path.join(output_dir, 'result_task_m.csv')\n",
        "    df_task_m.to_csv(result_task_m, index=False)\n",
        "else:\n",
        "    df_task_h = pd.concat(restask_h)\n",
        "    result_task_h = os.path.join(output_dir, 'result_task_h.csv')\n",
        "    df_task_h.to_csv(result_task_h, index=False)"
      ],
      "metadata": {
        "id": "delXCyfOnW0k",
        "outputId": "c8d2efe7-7412-4357-96ff-b6b625194bce",
        "colab": {
          "base_uri": "https://localhost:8080/"
        }
      },
      "execution_count": null,
      "outputs": [
        {
          "output_type": "stream",
          "name": "stdout",
          "text": [
            "loading test data ...\n",
            "loading code_adj ...\n",
            "code_adj size 2821\n",
            "train 741\n",
            "test 80\n",
            "valid 87\n",
            "Model\n",
            "    auc: 0.7729 --- f1_score: 0.6203\n"
          ]
        }
      ]
    },
    {
      "cell_type": "code",
      "source": [
        "df_task_h"
      ],
      "metadata": {
        "id": "6znPpxLeuSur",
        "outputId": "7cc12074-6e9c-43aa-a1f0-36193737aee8",
        "colab": {
          "base_uri": "https://localhost:8080/",
          "height": 80
        }
      },
      "execution_count": null,
      "outputs": [
        {
          "output_type": "execute_result",
          "data": {
            "text/plain": [
              "  dataset_name task_name  train_index       auc  f1_score\n",
              "0       mimic3         h           10  0.772886  0.620253"
            ],
            "text/html": [
              "\n",
              "  <div id=\"df-5a499207-1319-42e7-b4fa-87c9657d940e\">\n",
              "    <div class=\"colab-df-container\">\n",
              "      <div>\n",
              "<style scoped>\n",
              "    .dataframe tbody tr th:only-of-type {\n",
              "        vertical-align: middle;\n",
              "    }\n",
              "\n",
              "    .dataframe tbody tr th {\n",
              "        vertical-align: top;\n",
              "    }\n",
              "\n",
              "    .dataframe thead th {\n",
              "        text-align: right;\n",
              "    }\n",
              "</style>\n",
              "<table border=\"1\" class=\"dataframe\">\n",
              "  <thead>\n",
              "    <tr style=\"text-align: right;\">\n",
              "      <th></th>\n",
              "      <th>dataset_name</th>\n",
              "      <th>task_name</th>\n",
              "      <th>train_index</th>\n",
              "      <th>auc</th>\n",
              "      <th>f1_score</th>\n",
              "    </tr>\n",
              "  </thead>\n",
              "  <tbody>\n",
              "    <tr>\n",
              "      <th>0</th>\n",
              "      <td>mimic3</td>\n",
              "      <td>h</td>\n",
              "      <td>10</td>\n",
              "      <td>0.772886</td>\n",
              "      <td>0.620253</td>\n",
              "    </tr>\n",
              "  </tbody>\n",
              "</table>\n",
              "</div>\n",
              "      <button class=\"colab-df-convert\" onclick=\"convertToInteractive('df-5a499207-1319-42e7-b4fa-87c9657d940e')\"\n",
              "              title=\"Convert this dataframe to an interactive table.\"\n",
              "              style=\"display:none;\">\n",
              "        \n",
              "  <svg xmlns=\"http://www.w3.org/2000/svg\" height=\"24px\"viewBox=\"0 0 24 24\"\n",
              "       width=\"24px\">\n",
              "    <path d=\"M0 0h24v24H0V0z\" fill=\"none\"/>\n",
              "    <path d=\"M18.56 5.44l.94 2.06.94-2.06 2.06-.94-2.06-.94-.94-2.06-.94 2.06-2.06.94zm-11 1L8.5 8.5l.94-2.06 2.06-.94-2.06-.94L8.5 2.5l-.94 2.06-2.06.94zm10 10l.94 2.06.94-2.06 2.06-.94-2.06-.94-.94-2.06-.94 2.06-2.06.94z\"/><path d=\"M17.41 7.96l-1.37-1.37c-.4-.4-.92-.59-1.43-.59-.52 0-1.04.2-1.43.59L10.3 9.45l-7.72 7.72c-.78.78-.78 2.05 0 2.83L4 21.41c.39.39.9.59 1.41.59.51 0 1.02-.2 1.41-.59l7.78-7.78 2.81-2.81c.8-.78.8-2.07 0-2.86zM5.41 20L4 18.59l7.72-7.72 1.47 1.35L5.41 20z\"/>\n",
              "  </svg>\n",
              "      </button>\n",
              "      \n",
              "  <style>\n",
              "    .colab-df-container {\n",
              "      display:flex;\n",
              "      flex-wrap:wrap;\n",
              "      gap: 12px;\n",
              "    }\n",
              "\n",
              "    .colab-df-convert {\n",
              "      background-color: #E8F0FE;\n",
              "      border: none;\n",
              "      border-radius: 50%;\n",
              "      cursor: pointer;\n",
              "      display: none;\n",
              "      fill: #1967D2;\n",
              "      height: 32px;\n",
              "      padding: 0 0 0 0;\n",
              "      width: 32px;\n",
              "    }\n",
              "\n",
              "    .colab-df-convert:hover {\n",
              "      background-color: #E2EBFA;\n",
              "      box-shadow: 0px 1px 2px rgba(60, 64, 67, 0.3), 0px 1px 3px 1px rgba(60, 64, 67, 0.15);\n",
              "      fill: #174EA6;\n",
              "    }\n",
              "\n",
              "    [theme=dark] .colab-df-convert {\n",
              "      background-color: #3B4455;\n",
              "      fill: #D2E3FC;\n",
              "    }\n",
              "\n",
              "    [theme=dark] .colab-df-convert:hover {\n",
              "      background-color: #434B5C;\n",
              "      box-shadow: 0px 1px 3px 1px rgba(0, 0, 0, 0.15);\n",
              "      filter: drop-shadow(0px 1px 2px rgba(0, 0, 0, 0.3));\n",
              "      fill: #FFFFFF;\n",
              "    }\n",
              "  </style>\n",
              "\n",
              "      <script>\n",
              "        const buttonEl =\n",
              "          document.querySelector('#df-5a499207-1319-42e7-b4fa-87c9657d940e button.colab-df-convert');\n",
              "        buttonEl.style.display =\n",
              "          google.colab.kernel.accessAllowed ? 'block' : 'none';\n",
              "\n",
              "        async function convertToInteractive(key) {\n",
              "          const element = document.querySelector('#df-5a499207-1319-42e7-b4fa-87c9657d940e');\n",
              "          const dataTable =\n",
              "            await google.colab.kernel.invokeFunction('convertToInteractive',\n",
              "                                                     [key], {});\n",
              "          if (!dataTable) return;\n",
              "\n",
              "          const docLinkHtml = 'Like what you see? Visit the ' +\n",
              "            '<a target=\"_blank\" href=https://colab.research.google.com/notebooks/data_table.ipynb>data table notebook</a>'\n",
              "            + ' to learn more about interactive tables.';\n",
              "          element.innerHTML = '';\n",
              "          dataTable['output_type'] = 'display_data';\n",
              "          await google.colab.output.renderOutput(dataTable, element);\n",
              "          const docLink = document.createElement('div');\n",
              "          docLink.innerHTML = docLinkHtml;\n",
              "          element.appendChild(docLink);\n",
              "        }\n",
              "      </script>\n",
              "    </div>\n",
              "  </div>\n",
              "  "
            ]
          },
          "metadata": {},
          "execution_count": 43
        }
      ]
    },
    {
      "cell_type": "markdown",
      "source": [
        "# Final results Summary\n",
        "\n",
        "Our final results are summarized in the tables below"
      ],
      "metadata": {
        "id": "HJYIqwfKctsq"
      }
    },
    {
      "cell_type": "markdown",
      "source": [
        "# References / Credits\n",
        "\n",
        "*   [LuChang-CS/Chet-github](https://github.com/luchang-cs/chet)\n",
        "*   [Pyhealth API](https://pyhealth.readthedocs.io/en/latest/api/)\n",
        "\n",
        "We are also thankful to our TA's below and professor Jimeng Sun , UIUC for the guidance\n",
        "*   Chaoqi Yang - TA CS598 Deep Learning for Healthcare, UIUC\n",
        "*   Zhenbang Wu - TA CS598 Deep Learning for Healthcare, UIUC\n",
        "\n"
      ],
      "metadata": {
        "id": "e2viUIMxgxlN"
      }
    }
  ]
}