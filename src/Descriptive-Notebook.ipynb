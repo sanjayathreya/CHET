{
  "nbformat": 4,
  "nbformat_minor": 0,
  "metadata": {
    "colab": {
      "provenance": [],
      "authorship_tag": "ABX9TyMjW6Hg4I3I+RH5rFAZqSgy",
      "include_colab_link": true
    },
    "kernelspec": {
      "name": "python3",
      "display_name": "Python 3"
    },
    "language_info": {
      "name": "python"
    },
    "gpuClass": "standard"
  },
  "cells": [
    {
      "cell_type": "markdown",
      "metadata": {
        "id": "view-in-github",
        "colab_type": "text"
      },
      "source": [
        "<a href=\"https://colab.research.google.com/github/sanjayathreya/cs598dl4h-project/blob/main/src/Descriptive-Notebook.ipynb\" target=\"_parent\"><img src=\"https://colab.research.google.com/assets/colab-badge.svg\" alt=\"Open In Colab\"/></a>"
      ]
    },
    {
      "cell_type": "markdown",
      "source": [
        "## **Reproducibility summary**\n",
        "\n",
        "This notebook describes the methods followed by the paper **Chang Lu, Tian Han, and Yue Ning. 2021a. Context- aware health event prediction via transition functions on dynamic disease graphs(Chet). ArXiv, abs/2112.05195**\n",
        "\n",
        "1.   **Claim 1**: For heart failure prediction task, Chet outperforms the baseline models based on metrics such as **AUC and F1-scores on MIMIC III and MIMIC IV data sets.**\n",
        "\n",
        "2. **Claim 2**: For diagnosis prediction task, Chet outperforms the baseline models based on MIMIC III and MIMIC IV data sets. The authors compare w-F1 is a weighted sum of F1 scores for all medical codes and R@k which is an average ratio of desired medical codes in top k predictions by the total number of desired medical codes in each visit.\n",
        "\n",
        "To verify these claims, we reproduced these results MIMIC III- carevue (Johnson et al., 2022) which excludes overlap of patients in MIMIC IV, and MIMIC IV (Johnson et al., 2023). Additionally, we investigated the effectiveness of the model under different experimental setups such comparing performance of model by changing the number of training epochs, using a different pre-processing\n",
        "method to extract data, ablation studies that do not include dynamic graph and transition functions.\n",
        "\n",
        "***This notebook describes the methods followed on reproducing the paper on [MIMIC III carevue dataset](https://physionet.org/content/mimic3-carevue/1.4/)***\n",
        "\n",
        "\n",
        "\n",
        "\n",
        "\n",
        "\n"
      ],
      "metadata": {
        "id": "9lAd4XW2mMUM"
      }
    },
    {
      "cell_type": "markdown",
      "source": [
        "# Initial setup"
      ],
      "metadata": {
        "id": "6yvXt0LbmLl1"
      }
    },
    {
      "cell_type": "code",
      "source": [
        "!git clone https://github.com/sanjayathreya/cs598dl4h-project\n",
        "!mv /content/cs598dl4h-project /content/CHET"
      ],
      "metadata": {
        "colab": {
          "base_uri": "https://localhost:8080/"
        },
        "id": "b4s6ws3xmOw3",
        "outputId": "f15b591d-09c1-4948-e143-092e018f0e65"
      },
      "execution_count": 2,
      "outputs": [
        {
          "output_type": "stream",
          "name": "stdout",
          "text": [
            "Cloning into 'cs598dl4h-project'...\n",
            "remote: Enumerating objects: 334, done.\u001b[K\n",
            "remote: Counting objects: 100% (13/13), done.\u001b[K\n",
            "remote: Compressing objects: 100% (10/10), done.\u001b[K\n",
            "remote: Total 334 (delta 6), reused 6 (delta 3), pack-reused 321\u001b[K\n",
            "Receiving objects: 100% (334/334), 14.61 MiB | 6.15 MiB/s, done.\n",
            "Resolving deltas: 100% (186/186), done.\n"
          ]
        }
      ]
    },
    {
      "cell_type": "code",
      "source": [
        "#@title Copy the files paitients.csv, admissions.csv and diagnoses_icd.csv to mimic3\n",
        "from google.colab import drive\n",
        "drive.mount('/content/drive')\n",
        "!cp -a /content/drive/MyDrive/CHET/data/mimic3/raw/ /content/CHET/data/mimic3/\n",
        "!cp -a /content/drive/MyDrive/CHET/data/mimic4/raw/ /content/CHET/data/mimic4/"
      ],
      "metadata": {
        "colab": {
          "base_uri": "https://localhost:8080/"
        },
        "id": "Rybth0xtlxuI",
        "outputId": "c00c3988-66e9-4385-a607-10020b0e65e7"
      },
      "execution_count": 3,
      "outputs": [
        {
          "output_type": "stream",
          "name": "stdout",
          "text": [
            "Mounted at /content/drive\n"
          ]
        }
      ]
    },
    {
      "cell_type": "code",
      "source": [
        "%cd /content/CHET/"
      ],
      "metadata": {
        "colab": {
          "base_uri": "https://localhost:8080/"
        },
        "id": "LX5dtYwD0a5y",
        "outputId": "28feef65-4484-451f-be7d-f94164e7fdec"
      },
      "execution_count": 4,
      "outputs": [
        {
          "output_type": "stream",
          "name": "stdout",
          "text": [
            "/content/CHET\n"
          ]
        }
      ]
    },
    {
      "cell_type": "code",
      "source": [
        "!pip install -r requirements.txt"
      ],
      "metadata": {
        "id": "M8Ox1JXkVQ8z",
        "colab": {
          "base_uri": "https://localhost:8080/"
        },
        "outputId": "7f0eaf6e-58e6-4c67-aaff-fefded29f182"
      },
      "execution_count": 5,
      "outputs": [
        {
          "output_type": "stream",
          "name": "stdout",
          "text": [
            "Looking in indexes: https://pypi.org/simple, https://us-python.pkg.dev/colab-wheels/public/simple/\n",
            "Requirement already satisfied: joblib in /usr/local/lib/python3.10/dist-packages (from -r requirements.txt (line 1)) (1.2.0)\n",
            "Requirement already satisfied: numpy in /usr/local/lib/python3.10/dist-packages (from -r requirements.txt (line 2)) (1.22.4)\n",
            "Requirement already satisfied: pandas in /usr/local/lib/python3.10/dist-packages (from -r requirements.txt (line 3)) (1.5.3)\n",
            "Requirement already satisfied: Pillow in /usr/local/lib/python3.10/dist-packages (from -r requirements.txt (line 4)) (8.4.0)\n",
            "Requirement already satisfied: python-dateutil in /usr/local/lib/python3.10/dist-packages (from -r requirements.txt (line 5)) (2.8.2)\n",
            "Requirement already satisfied: pytz in /usr/local/lib/python3.10/dist-packages (from -r requirements.txt (line 6)) (2022.7.1)\n",
            "Requirement already satisfied: scikit-learn in /usr/local/lib/python3.10/dist-packages (from -r requirements.txt (line 7)) (1.2.2)\n",
            "Requirement already satisfied: scipy in /usr/local/lib/python3.10/dist-packages (from -r requirements.txt (line 8)) (1.10.1)\n",
            "Requirement already satisfied: six in /usr/local/lib/python3.10/dist-packages (from -r requirements.txt (line 9)) (1.16.0)\n",
            "Requirement already satisfied: threadpoolctl in /usr/local/lib/python3.10/dist-packages (from -r requirements.txt (line 10)) (3.1.0)\n",
            "Requirement already satisfied: torch in /usr/local/lib/python3.10/dist-packages (from -r requirements.txt (line 11)) (2.0.0+cu118)\n",
            "Requirement already satisfied: torchaudio in /usr/local/lib/python3.10/dist-packages (from -r requirements.txt (line 12)) (2.0.1+cu118)\n",
            "Requirement already satisfied: torchvision in /usr/local/lib/python3.10/dist-packages (from -r requirements.txt (line 13)) (0.15.1+cu118)\n",
            "Requirement already satisfied: typing-extensions in /usr/local/lib/python3.10/dist-packages (from -r requirements.txt (line 14)) (4.5.0)\n",
            "Collecting pyhealth\n",
            "  Downloading pyhealth-1.1.3-py2.py3-none-any.whl (113 kB)\n",
            "\u001b[2K     \u001b[90m━━━━━━━━━━━━━━━━━━━━━━━━━━━━━━━━━━━━━━━\u001b[0m \u001b[32m113.8/113.8 kB\u001b[0m \u001b[31m3.7 MB/s\u001b[0m eta \u001b[36m0:00:00\u001b[0m\n",
            "\u001b[?25hRequirement already satisfied: triton==2.0.0 in /usr/local/lib/python3.10/dist-packages (from torch->-r requirements.txt (line 11)) (2.0.0)\n",
            "Requirement already satisfied: networkx in /usr/local/lib/python3.10/dist-packages (from torch->-r requirements.txt (line 11)) (3.1)\n",
            "Requirement already satisfied: jinja2 in /usr/local/lib/python3.10/dist-packages (from torch->-r requirements.txt (line 11)) (3.1.2)\n",
            "Requirement already satisfied: filelock in /usr/local/lib/python3.10/dist-packages (from torch->-r requirements.txt (line 11)) (3.12.0)\n",
            "Requirement already satisfied: sympy in /usr/local/lib/python3.10/dist-packages (from torch->-r requirements.txt (line 11)) (1.11.1)\n",
            "Requirement already satisfied: cmake in /usr/local/lib/python3.10/dist-packages (from triton==2.0.0->torch->-r requirements.txt (line 11)) (3.25.2)\n",
            "Requirement already satisfied: lit in /usr/local/lib/python3.10/dist-packages (from triton==2.0.0->torch->-r requirements.txt (line 11)) (16.0.2)\n",
            "Requirement already satisfied: requests in /usr/local/lib/python3.10/dist-packages (from torchvision->-r requirements.txt (line 13)) (2.27.1)\n",
            "Collecting rdkit>=2022.03.4\n",
            "  Downloading rdkit-2023.3.1-cp310-cp310-manylinux_2_17_x86_64.manylinux2014_x86_64.whl (29.7 MB)\n",
            "\u001b[2K     \u001b[90m━━━━━━━━━━━━━━━━━━━━━━━━━━━━━━━━━━━━━━━━\u001b[0m \u001b[32m29.7/29.7 MB\u001b[0m \u001b[31m35.1 MB/s\u001b[0m eta \u001b[36m0:00:00\u001b[0m\n",
            "\u001b[?25hRequirement already satisfied: tqdm in /usr/local/lib/python3.10/dist-packages (from pyhealth->-r requirements.txt (line 15)) (4.65.0)\n",
            "Requirement already satisfied: MarkupSafe>=2.0 in /usr/local/lib/python3.10/dist-packages (from jinja2->torch->-r requirements.txt (line 11)) (2.1.2)\n",
            "Requirement already satisfied: idna<4,>=2.5 in /usr/local/lib/python3.10/dist-packages (from requests->torchvision->-r requirements.txt (line 13)) (3.4)\n",
            "Requirement already satisfied: certifi>=2017.4.17 in /usr/local/lib/python3.10/dist-packages (from requests->torchvision->-r requirements.txt (line 13)) (2022.12.7)\n",
            "Requirement already satisfied: urllib3<1.27,>=1.21.1 in /usr/local/lib/python3.10/dist-packages (from requests->torchvision->-r requirements.txt (line 13)) (1.26.15)\n",
            "Requirement already satisfied: charset-normalizer~=2.0.0 in /usr/local/lib/python3.10/dist-packages (from requests->torchvision->-r requirements.txt (line 13)) (2.0.12)\n",
            "Requirement already satisfied: mpmath>=0.19 in /usr/local/lib/python3.10/dist-packages (from sympy->torch->-r requirements.txt (line 11)) (1.3.0)\n",
            "Installing collected packages: rdkit, pyhealth\n",
            "Successfully installed pyhealth-1.1.3 rdkit-2023.3.1\n"
          ]
        }
      ]
    },
    {
      "cell_type": "markdown",
      "source": [
        "Change working directory to CHET/src"
      ],
      "metadata": {
        "id": "M14L0nwg6oc5"
      }
    },
    {
      "cell_type": "code",
      "source": [
        "%cd /content/CHET/src\n",
        "%pwd"
      ],
      "metadata": {
        "colab": {
          "base_uri": "https://localhost:8080/",
          "height": 53
        },
        "id": "lRowZYrvVTl0",
        "outputId": "b3329b98-5dac-474d-9f9a-61001a8901f8"
      },
      "execution_count": 6,
      "outputs": [
        {
          "output_type": "stream",
          "name": "stdout",
          "text": [
            "/content/CHET/src\n"
          ]
        },
        {
          "output_type": "execute_result",
          "data": {
            "text/plain": [
              "'/content/CHET/src'"
            ],
            "application/vnd.google.colaboratory.intrinsic+json": {
              "type": "string"
            }
          },
          "metadata": {},
          "execution_count": 6
        }
      ]
    },
    {
      "cell_type": "markdown",
      "source": [
        "# Preprocessing and dataset statistics"
      ],
      "metadata": {
        "id": "Yyw7Ez1d7riJ"
      }
    },
    {
      "cell_type": "markdown",
      "source": [
        "In order to preprocess MIMIC4dataset we need to copy over the mapping of ICD10CM to ICD9CM to the cache folder on the containerized colab environment."
      ],
      "metadata": {
        "id": "UvRMSyZT6uHY"
      }
    },
    {
      "cell_type": "code",
      "source": [
        "from pyhealth.medcode import CrossMap\n",
        "from pyhealth.datasets import MIMIC4Dataset,MIMIC3Dataset\n",
        "!cp /content/CHET/ICD10CM_to_ICD9CM.csv /root/.cache/pyhealth/medcode"
      ],
      "metadata": {
        "id": "m-rsPuT7VXMA"
      },
      "execution_count": 7,
      "outputs": []
    },
    {
      "cell_type": "markdown",
      "source": [
        "At first, lets glance through the statistics of the dataset in parsed folder directly.\n"
      ],
      "metadata": {
        "id": "ovKgJHLv7A8Z"
      }
    },
    {
      "cell_type": "code",
      "source": [
        "from preprocess import *\n",
        "import os\n",
        "import pandas as pd\n",
        "\n",
        "data_path = os.path.join('..','data')\n",
        "datasets = ['mimic3','mimic4']\n",
        "res =[]\n",
        "for dataset_ in datasets:\n",
        "  parsed_main_path = os.path.join(data_path, dataset_, 'parsed')\n",
        "  patient_admission = pickle.load(open(os.path.join(parsed_main_path, 'patient_admission.pkl'), 'rb'))\n",
        "  admission_codes = pickle.load(open(os.path.join(parsed_main_path, 'admission_codes.pkl'), 'rb'))\n",
        "  df_ = get_stats_df(patient_admission, admission_codes)\n",
        "  df_['dataset'] = dataset_\n",
        "  res.append(df_)\n",
        "\n",
        "res = pd.concat(res)\n",
        "res"
      ],
      "metadata": {
        "colab": {
          "base_uri": "https://localhost:8080/",
          "height": 112
        },
        "id": "T0F-TGJO2U5W",
        "outputId": "f4b65844-1db0-4543-ee2c-018b9db36828"
      },
      "execution_count": 33,
      "outputs": [
        {
          "output_type": "execute_result",
          "data": {
            "text/plain": [
              "   # patients  # maximum visits  average # visits  max # diagnoses codes  \\\n",
              "0        2169                23          2.447211                     39   \n",
              "0       10000                93          3.794900                     39   \n",
              "\n",
              "   avg # diagnoses codes dataset  \n",
              "0              10.703090  mimic3  \n",
              "0              13.513479  mimic4  "
            ],
            "text/html": [
              "\n",
              "  <div id=\"df-7c0ea1a2-be7c-4295-9e24-4872a792705d\">\n",
              "    <div class=\"colab-df-container\">\n",
              "      <div>\n",
              "<style scoped>\n",
              "    .dataframe tbody tr th:only-of-type {\n",
              "        vertical-align: middle;\n",
              "    }\n",
              "\n",
              "    .dataframe tbody tr th {\n",
              "        vertical-align: top;\n",
              "    }\n",
              "\n",
              "    .dataframe thead th {\n",
              "        text-align: right;\n",
              "    }\n",
              "</style>\n",
              "<table border=\"1\" class=\"dataframe\">\n",
              "  <thead>\n",
              "    <tr style=\"text-align: right;\">\n",
              "      <th></th>\n",
              "      <th># patients</th>\n",
              "      <th># maximum visits</th>\n",
              "      <th>average # visits</th>\n",
              "      <th>max # diagnoses codes</th>\n",
              "      <th>avg # diagnoses codes</th>\n",
              "      <th>dataset</th>\n",
              "    </tr>\n",
              "  </thead>\n",
              "  <tbody>\n",
              "    <tr>\n",
              "      <th>0</th>\n",
              "      <td>2169</td>\n",
              "      <td>23</td>\n",
              "      <td>2.447211</td>\n",
              "      <td>39</td>\n",
              "      <td>10.703090</td>\n",
              "      <td>mimic3</td>\n",
              "    </tr>\n",
              "    <tr>\n",
              "      <th>0</th>\n",
              "      <td>10000</td>\n",
              "      <td>93</td>\n",
              "      <td>3.794900</td>\n",
              "      <td>39</td>\n",
              "      <td>13.513479</td>\n",
              "      <td>mimic4</td>\n",
              "    </tr>\n",
              "  </tbody>\n",
              "</table>\n",
              "</div>\n",
              "      <button class=\"colab-df-convert\" onclick=\"convertToInteractive('df-7c0ea1a2-be7c-4295-9e24-4872a792705d')\"\n",
              "              title=\"Convert this dataframe to an interactive table.\"\n",
              "              style=\"display:none;\">\n",
              "        \n",
              "  <svg xmlns=\"http://www.w3.org/2000/svg\" height=\"24px\"viewBox=\"0 0 24 24\"\n",
              "       width=\"24px\">\n",
              "    <path d=\"M0 0h24v24H0V0z\" fill=\"none\"/>\n",
              "    <path d=\"M18.56 5.44l.94 2.06.94-2.06 2.06-.94-2.06-.94-.94-2.06-.94 2.06-2.06.94zm-11 1L8.5 8.5l.94-2.06 2.06-.94-2.06-.94L8.5 2.5l-.94 2.06-2.06.94zm10 10l.94 2.06.94-2.06 2.06-.94-2.06-.94-.94-2.06-.94 2.06-2.06.94z\"/><path d=\"M17.41 7.96l-1.37-1.37c-.4-.4-.92-.59-1.43-.59-.52 0-1.04.2-1.43.59L10.3 9.45l-7.72 7.72c-.78.78-.78 2.05 0 2.83L4 21.41c.39.39.9.59 1.41.59.51 0 1.02-.2 1.41-.59l7.78-7.78 2.81-2.81c.8-.78.8-2.07 0-2.86zM5.41 20L4 18.59l7.72-7.72 1.47 1.35L5.41 20z\"/>\n",
              "  </svg>\n",
              "      </button>\n",
              "      \n",
              "  <style>\n",
              "    .colab-df-container {\n",
              "      display:flex;\n",
              "      flex-wrap:wrap;\n",
              "      gap: 12px;\n",
              "    }\n",
              "\n",
              "    .colab-df-convert {\n",
              "      background-color: #E8F0FE;\n",
              "      border: none;\n",
              "      border-radius: 50%;\n",
              "      cursor: pointer;\n",
              "      display: none;\n",
              "      fill: #1967D2;\n",
              "      height: 32px;\n",
              "      padding: 0 0 0 0;\n",
              "      width: 32px;\n",
              "    }\n",
              "\n",
              "    .colab-df-convert:hover {\n",
              "      background-color: #E2EBFA;\n",
              "      box-shadow: 0px 1px 2px rgba(60, 64, 67, 0.3), 0px 1px 3px 1px rgba(60, 64, 67, 0.15);\n",
              "      fill: #174EA6;\n",
              "    }\n",
              "\n",
              "    [theme=dark] .colab-df-convert {\n",
              "      background-color: #3B4455;\n",
              "      fill: #D2E3FC;\n",
              "    }\n",
              "\n",
              "    [theme=dark] .colab-df-convert:hover {\n",
              "      background-color: #434B5C;\n",
              "      box-shadow: 0px 1px 3px 1px rgba(0, 0, 0, 0.15);\n",
              "      filter: drop-shadow(0px 1px 2px rgba(0, 0, 0, 0.3));\n",
              "      fill: #FFFFFF;\n",
              "    }\n",
              "  </style>\n",
              "\n",
              "      <script>\n",
              "        const buttonEl =\n",
              "          document.querySelector('#df-7c0ea1a2-be7c-4295-9e24-4872a792705d button.colab-df-convert');\n",
              "        buttonEl.style.display =\n",
              "          google.colab.kernel.accessAllowed ? 'block' : 'none';\n",
              "\n",
              "        async function convertToInteractive(key) {\n",
              "          const element = document.querySelector('#df-7c0ea1a2-be7c-4295-9e24-4872a792705d');\n",
              "          const dataTable =\n",
              "            await google.colab.kernel.invokeFunction('convertToInteractive',\n",
              "                                                     [key], {});\n",
              "          if (!dataTable) return;\n",
              "\n",
              "          const docLinkHtml = 'Like what you see? Visit the ' +\n",
              "            '<a target=\"_blank\" href=https://colab.research.google.com/notebooks/data_table.ipynb>data table notebook</a>'\n",
              "            + ' to learn more about interactive tables.';\n",
              "          element.innerHTML = '';\n",
              "          dataTable['output_type'] = 'display_data';\n",
              "          await google.colab.output.renderOutput(dataTable, element);\n",
              "          const docLink = document.createElement('div');\n",
              "          docLink.innerHTML = docLinkHtml;\n",
              "          element.appendChild(docLink);\n",
              "        }\n",
              "      </script>\n",
              "    </div>\n",
              "  </div>\n",
              "  "
            ]
          },
          "metadata": {},
          "execution_count": 33
        }
      ]
    },
    {
      "cell_type": "markdown",
      "source": [
        "Now, let us review the steps in parsing process for MIMIC III Carevue subset"
      ],
      "metadata": {
        "id": "-PcWZ1cG2gt9"
      }
    },
    {
      "cell_type": "code",
      "source": [
        "dataset = 'mimic3'\n",
        "data_path = os.path.join('..','testing')\n",
        "parsed_main_path = os.path.join(data_path, dataset, 'parsed')\n",
        "# initial setting to ex\n",
        "patient_admission, admission_codes = generate_parsed_datesets(dataset,parsed_main_path,ret_value=True)\n",
        "df = get_stats_df(patient_admission, admission_codes)\n",
        "df"
      ],
      "metadata": {
        "colab": {
          "base_uri": "https://localhost:8080/",
          "height": 277
        },
        "id": "-EWp7FS0-I4I",
        "outputId": "bce4f189-de5e-4d61-955c-2b268897dc51"
      },
      "execution_count": 34,
      "outputs": [
        {
          "output_type": "stream",
          "name": "stdout",
          "text": [
            "operating on path /content/CHET/src\n",
            "\n",
            "\n",
            "Loaded datasets in pyhealth\n",
            "\n"
          ]
        },
        {
          "output_type": "stream",
          "name": "stderr",
          "text": [
            "Creating Parsed datasets for each paitient: 100%|██████████| 23692/23692 [00:00<00:00, 99799.19it/s] \n"
          ]
        },
        {
          "output_type": "stream",
          "name": "stdout",
          "text": [
            "\n",
            "saving parsed data\n",
            "\n",
            "saved patient_admission data ...\n",
            "saved admission_codes data ...\n"
          ]
        },
        {
          "output_type": "execute_result",
          "data": {
            "text/plain": [
              "   # patients  # maximum visits  average # visits  max # diagnoses codes  \\\n",
              "0        2169                23          2.447211                     39   \n",
              "\n",
              "   avg # diagnoses codes  \n",
              "0              10.702148  "
            ],
            "text/html": [
              "\n",
              "  <div id=\"df-599599f1-b525-458b-bf88-a35d2efab3ba\">\n",
              "    <div class=\"colab-df-container\">\n",
              "      <div>\n",
              "<style scoped>\n",
              "    .dataframe tbody tr th:only-of-type {\n",
              "        vertical-align: middle;\n",
              "    }\n",
              "\n",
              "    .dataframe tbody tr th {\n",
              "        vertical-align: top;\n",
              "    }\n",
              "\n",
              "    .dataframe thead th {\n",
              "        text-align: right;\n",
              "    }\n",
              "</style>\n",
              "<table border=\"1\" class=\"dataframe\">\n",
              "  <thead>\n",
              "    <tr style=\"text-align: right;\">\n",
              "      <th></th>\n",
              "      <th># patients</th>\n",
              "      <th># maximum visits</th>\n",
              "      <th>average # visits</th>\n",
              "      <th>max # diagnoses codes</th>\n",
              "      <th>avg # diagnoses codes</th>\n",
              "    </tr>\n",
              "  </thead>\n",
              "  <tbody>\n",
              "    <tr>\n",
              "      <th>0</th>\n",
              "      <td>2169</td>\n",
              "      <td>23</td>\n",
              "      <td>2.447211</td>\n",
              "      <td>39</td>\n",
              "      <td>10.702148</td>\n",
              "    </tr>\n",
              "  </tbody>\n",
              "</table>\n",
              "</div>\n",
              "      <button class=\"colab-df-convert\" onclick=\"convertToInteractive('df-599599f1-b525-458b-bf88-a35d2efab3ba')\"\n",
              "              title=\"Convert this dataframe to an interactive table.\"\n",
              "              style=\"display:none;\">\n",
              "        \n",
              "  <svg xmlns=\"http://www.w3.org/2000/svg\" height=\"24px\"viewBox=\"0 0 24 24\"\n",
              "       width=\"24px\">\n",
              "    <path d=\"M0 0h24v24H0V0z\" fill=\"none\"/>\n",
              "    <path d=\"M18.56 5.44l.94 2.06.94-2.06 2.06-.94-2.06-.94-.94-2.06-.94 2.06-2.06.94zm-11 1L8.5 8.5l.94-2.06 2.06-.94-2.06-.94L8.5 2.5l-.94 2.06-2.06.94zm10 10l.94 2.06.94-2.06 2.06-.94-2.06-.94-.94-2.06-.94 2.06-2.06.94z\"/><path d=\"M17.41 7.96l-1.37-1.37c-.4-.4-.92-.59-1.43-.59-.52 0-1.04.2-1.43.59L10.3 9.45l-7.72 7.72c-.78.78-.78 2.05 0 2.83L4 21.41c.39.39.9.59 1.41.59.51 0 1.02-.2 1.41-.59l7.78-7.78 2.81-2.81c.8-.78.8-2.07 0-2.86zM5.41 20L4 18.59l7.72-7.72 1.47 1.35L5.41 20z\"/>\n",
              "  </svg>\n",
              "      </button>\n",
              "      \n",
              "  <style>\n",
              "    .colab-df-container {\n",
              "      display:flex;\n",
              "      flex-wrap:wrap;\n",
              "      gap: 12px;\n",
              "    }\n",
              "\n",
              "    .colab-df-convert {\n",
              "      background-color: #E8F0FE;\n",
              "      border: none;\n",
              "      border-radius: 50%;\n",
              "      cursor: pointer;\n",
              "      display: none;\n",
              "      fill: #1967D2;\n",
              "      height: 32px;\n",
              "      padding: 0 0 0 0;\n",
              "      width: 32px;\n",
              "    }\n",
              "\n",
              "    .colab-df-convert:hover {\n",
              "      background-color: #E2EBFA;\n",
              "      box-shadow: 0px 1px 2px rgba(60, 64, 67, 0.3), 0px 1px 3px 1px rgba(60, 64, 67, 0.15);\n",
              "      fill: #174EA6;\n",
              "    }\n",
              "\n",
              "    [theme=dark] .colab-df-convert {\n",
              "      background-color: #3B4455;\n",
              "      fill: #D2E3FC;\n",
              "    }\n",
              "\n",
              "    [theme=dark] .colab-df-convert:hover {\n",
              "      background-color: #434B5C;\n",
              "      box-shadow: 0px 1px 3px 1px rgba(0, 0, 0, 0.15);\n",
              "      filter: drop-shadow(0px 1px 2px rgba(0, 0, 0, 0.3));\n",
              "      fill: #FFFFFF;\n",
              "    }\n",
              "  </style>\n",
              "\n",
              "      <script>\n",
              "        const buttonEl =\n",
              "          document.querySelector('#df-599599f1-b525-458b-bf88-a35d2efab3ba button.colab-df-convert');\n",
              "        buttonEl.style.display =\n",
              "          google.colab.kernel.accessAllowed ? 'block' : 'none';\n",
              "\n",
              "        async function convertToInteractive(key) {\n",
              "          const element = document.querySelector('#df-599599f1-b525-458b-bf88-a35d2efab3ba');\n",
              "          const dataTable =\n",
              "            await google.colab.kernel.invokeFunction('convertToInteractive',\n",
              "                                                     [key], {});\n",
              "          if (!dataTable) return;\n",
              "\n",
              "          const docLinkHtml = 'Like what you see? Visit the ' +\n",
              "            '<a target=\"_blank\" href=https://colab.research.google.com/notebooks/data_table.ipynb>data table notebook</a>'\n",
              "            + ' to learn more about interactive tables.';\n",
              "          element.innerHTML = '';\n",
              "          dataTable['output_type'] = 'display_data';\n",
              "          await google.colab.output.renderOutput(dataTable, element);\n",
              "          const docLink = document.createElement('div');\n",
              "          docLink.innerHTML = docLinkHtml;\n",
              "          element.appendChild(docLink);\n",
              "        }\n",
              "      </script>\n",
              "    </div>\n",
              "  </div>\n",
              "  "
            ]
          },
          "metadata": {},
          "execution_count": 34
        }
      ]
    },
    {
      "cell_type": "markdown",
      "source": [
        "# Preprocessing Tasks"
      ],
      "metadata": {
        "id": "AIFlZFxeRkqE"
      }
    },
    {
      "cell_type": "markdown",
      "source": [
        "**Step 1**: Use Tokenizer object in pyhealth to encode admission codes"
      ],
      "metadata": {
        "id": "glcOFDJxSXyd"
      }
    },
    {
      "cell_type": "code",
      "source": [
        "seed =2\n",
        "\n",
        "encoded_path = os.path.join(dataset_path, 'encoded')\n",
        "standard_path = os.path.join(dataset_path, 'standard')\n",
        "max_admission_num = get_stats(patient_admission, admission_codes)\n",
        "\n",
        "patient_admission, admission_codes = generate_parsed_datesets(dataset,parsed_main_path,ret_value=True)\n",
        "\n",
        "# Generate code map and encode admission_codes\n",
        "codes = list(admission_codes.values())\n",
        "codes = list(set(flatten_list(codes)))\n",
        "tokenizer = Tokenizer(tokens=codes)\n",
        "code_map = tokenizer.vocabulary.token2idx\n",
        "admission_codes_encoded = { admission_id: list(set(tokenizer.convert_tokens_to_indices(codes))) for admission_id, codes in admission_codes.items() }\n",
        "code_num = len(code_map)\n",
        "print('There are %d codes' % code_num)"
      ],
      "metadata": {
        "colab": {
          "base_uri": "https://localhost:8080/"
        },
        "id": "6xkvwvpxRBYB",
        "outputId": "f3525f26-ede6-4ade-cf49-b6373c3f8b04"
      },
      "execution_count": 35,
      "outputs": [
        {
          "output_type": "stream",
          "name": "stdout",
          "text": [
            "patient num: 2169\n",
            "max admission num: 23\n",
            "mean admission num: 2.45\n",
            "max code num in an admission: 39\n",
            "mean code num in an admission: 10.70\n",
            "operating on path /content/CHET/src\n",
            "\n",
            "\n",
            "Loaded datasets in pyhealth\n",
            "\n"
          ]
        },
        {
          "output_type": "stream",
          "name": "stderr",
          "text": [
            "Creating Parsed datasets for each paitient: 100%|██████████| 23692/23692 [00:00<00:00, 148898.97it/s]"
          ]
        },
        {
          "output_type": "stream",
          "name": "stdout",
          "text": [
            "\n",
            "saving parsed data\n",
            "\n",
            "saved patient_admission data ...\n",
            "saved admission_codes data ...\n"
          ]
        },
        {
          "output_type": "stream",
          "name": "stderr",
          "text": [
            "\n"
          ]
        },
        {
          "output_type": "stream",
          "name": "stdout",
          "text": [
            "There are 2821 codes\n"
          ]
        }
      ]
    },
    {
      "cell_type": "markdown",
      "source": [
        "**Step 2**: Generate code levels. In this step we take the diagnoses codes for all admissions encode them into a 3 level hierarchy. This hiearchy is derived using ancestoral relationship in pyhealth. Where there are more than 3 levels , we force the hierarchy to three levels. The approach is similar to the one followed by the authors of the paper."
      ],
      "metadata": {
        "id": "chBBAigvTrDs"
      }
    },
    {
      "cell_type": "code",
      "source": [
        "# diagnosis code levels\n",
        "\n",
        "code_levels = generate_code_levels(code_map)\n",
        "print(\"\\ncompleted code levels\")\n",
        "code_levels[:2]"
      ],
      "metadata": {
        "colab": {
          "base_uri": "https://localhost:8080/"
        },
        "id": "zXCqGSLGTqD0",
        "outputId": "14e80f96-c7f9-4c88-d503-31e0ef0ab621"
      },
      "execution_count": 36,
      "outputs": [
        {
          "output_type": "stream",
          "name": "stderr",
          "text": [
            "generating code level matrix for codes: 100%|██████████| 2821/2821 [00:00<00:00, 10457.40it/s]"
          ]
        },
        {
          "output_type": "stream",
          "name": "stdout",
          "text": [
            "\n",
            "completed code levels\n"
          ]
        },
        {
          "output_type": "stream",
          "name": "stderr",
          "text": [
            "\n"
          ]
        },
        {
          "output_type": "execute_result",
          "data": {
            "text/plain": [
              "array([[  9,  80, 525,   0],\n",
              "       [  1,  17, 554,   1]])"
            ]
          },
          "metadata": {},
          "execution_count": 36
        }
      ]
    },
    {
      "cell_type": "markdown",
      "source": [
        "**Step3**: Split patients into Train , validation and test datasets. \n",
        "\n",
        "While performing the split , we ensure that all diagnoses codes are seen in the training set and the admission with maximum number of diagnosis codes are also included. The reason is to ensure no unseen codes in testing and ensure no out of memory exceptions during testing.\n",
        "\n",
        "After this step we save all encoded datasets to encoded folder for further processing."
      ],
      "metadata": {
        "id": "ldu9lhloUjnN"
      }
    },
    {
      "cell_type": "code",
      "source": [
        "# Split dataset to train , validation, test 80/10/10\n",
        "train_pids, valid_pids, test_pids  = split_patients(patient_admission, admission_codes, code_map, ratios=(.80,.10,.10), seed=seed)\n",
        "all_pids = { 'train_pids': train_pids, 'valid_pids': valid_pids, 'test_pids': test_pids }\n",
        "save_files(encoded_path, patient_admission =patient_admission, codes_encoded=admission_codes_encoded, code_map = code_map, pids = all_pids)"
      ],
      "metadata": {
        "colab": {
          "base_uri": "https://localhost:8080/"
        },
        "id": "iFFbItPAUdUI",
        "outputId": "86961ca2-7d7d-435b-8c62-8aff4058065f"
      },
      "execution_count": 37,
      "outputs": [
        {
          "output_type": "stream",
          "name": "stderr",
          "text": [
            "Split Paitents: 100%|██████████| 2821/2821 [00:00<00:00, 369719.45it/s]"
          ]
        },
        {
          "output_type": "stream",
          "name": "stdout",
          "text": [
            "Split patient_admission #: 2169 into \n",
            "\t Train #: 1735 \n",
            "\t Validation #: 218 \n",
            "\t Test #: 216\n",
            "saved patient_admission data ...\n",
            "saved codes_encoded data ...\n",
            "saved code_map data ...\n",
            "saved pids data ...\n"
          ]
        },
        {
          "output_type": "stream",
          "name": "stderr",
          "text": [
            "\n"
          ]
        }
      ]
    },
    {
      "cell_type": "markdown",
      "source": [
        "**Step5**: In this step, we generate the code code adjacency matrix   \n",
        "\n",
        "If a diagnosis code pair $(c_i, c_j)$, co-occurred in ***a*** patients visit then , two edges with $\\overrightarrow{(i,j)}$ and $\\overleftarrow{(i,j)}$  are recorded. These are asymmetric because the authors surmise that two diseases may not have equal influence on each other. $f_{ij}$ is the total co-occurrence frequency $(c_i, c_j)$ for **all** patient visits. In order to detect important disease relationships, they filter out combinations with low frequency. $\\Delta_i = {c_j | \n",
        "\\frac{f_{ij}}{\\sum_{j=1}^{d}f_{ij}} \\geq \\delta}$. This is stored in adjacency matrix $\\mathcal{A}$ which is static and measures global co-occurrence frequencies of diseases."
      ],
      "metadata": {
        "id": "Rcns-zzJVz3e"
      }
    },
    {
      "cell_type": "code",
      "source": [
        "# generate global adjacency matrix\n",
        "adj_matrix = generate_code_code_adjacent(train_pids, patient_admission, admission_codes_encoded, code_num, threshold=0.01)\n",
        "norm_adj_matrix = normalize_adj(adj_matrix)\n",
        "save_dict = {'code_adj': norm_adj_matrix}\n",
        "save_files(standard_path, type='standard', **save_dict)"
      ],
      "metadata": {
        "colab": {
          "base_uri": "https://localhost:8080/"
        },
        "id": "J13ocz5MVy2M",
        "outputId": "163dd60e-d839-4cfb-f0b5-c381229d61ac"
      },
      "execution_count": 38,
      "outputs": [
        {
          "output_type": "stream",
          "name": "stderr",
          "text": [
            "generating global code code adjacent matrix: 100%|██████████| 1735/1735 [00:00<00:00, 3626.44it/s]\n"
          ]
        }
      ]
    },
    {
      "cell_type": "markdown",
      "source": [
        "**Step6**: In this step, there are 4 parts \n",
        "\n",
        "**Part 1** We build the X, Y and visit_lens matrices. \n",
        "\n",
        "\n",
        "*   For each patient X consists of paitient ids, admission codes encoded, and \n",
        "diagnosis codes X[pid, admission_number, encoded_diagnoses_id] except for the last visit.\n",
        "\n",
        "*   Y is a true label matrix of admission_number and last diagnosis code we would like to use for prediction. [admission_number, encoded_diagnoses_id]\n",
        "\n",
        "*  visit_lens is a number of admissions excluding last visit [len admissions -1]\n",
        "\n",
        "**Part 2** Build a code of neighbors $\\mathcal{N_{ij}^t}$\n",
        "\n",
        "$\\mathcal{N_{ij}^t} = \\mathcal{A_{ij}}$ if $(c_i, c_j)$ are two neighbors and are not diagnosed in visit t. Otherwise = 0\n",
        "\n",
        "**Part 3** Build matrices to store local diagnosis graph and global diagnosis-neigbor graphs which are bipartite, shown below digrammatically.\n",
        "\n",
        "**Part 4** Build Y matrix for heart failure prediction. The label for HF is 1 when diagnosis code is *428*\n",
        "\n",
        "![Graphs.jpg](data:image/jpeg;base64,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)\n",
        "\n"
      ],
      "metadata": {
        "id": "7N7LF-kVWlpT"
      }
    },
    {
      "cell_type": "code",
      "source": [
        "# generate all datasets\n",
        "datasets = ['train', 'valid', 'test' ]\n",
        "for idx, dataset in enumerate(datasets):\n",
        "  if dataset == 'train':\n",
        "    pids = train_pids\n",
        "  elif dataset == 'valid':\n",
        "    pids = valid_pids\n",
        "  else:\n",
        "    pids = test_pids\n",
        "  print(f'\\nprocessing standard data for {dataset}\\n')\n",
        "  (X, Y, visit_lens) = construct_x_y(pids, patient_admission, admission_codes_encoded, max_admission_num, code_num)\n",
        "  N_t = build_neighbor_codes(X, visit_lens, adj_matrix)\n",
        "  M_t = divide_disease_type_matrices(X, N_t, visit_lens)\n",
        "  Y_hf = construct_hf_label_y(Y, code_map)\n",
        "\n",
        "  std_path = os.path.join(standard_path, dataset)\n",
        "  save_dict = {'code_x': X, 'visit_lens': visit_lens , 'code_y': Y,\n",
        "              'hf_y': Y_hf, 'divided': M_t, 'neighbors': N_t}\n",
        "\n",
        "  print(f'\\nsaving standard data for {dataset}\\n')\n",
        "  save_files(std_path, type='standard', **save_dict )"
      ],
      "metadata": {
        "colab": {
          "base_uri": "https://localhost:8080/"
        },
        "id": "LylfWg1oWmZP",
        "outputId": "a9cfa334-475f-40a1-bd3e-7120447d4977"
      },
      "execution_count": 39,
      "outputs": [
        {
          "output_type": "stream",
          "name": "stdout",
          "text": [
            "\n",
            "processing standard data for train\n",
            "\n"
          ]
        },
        {
          "output_type": "stream",
          "name": "stderr",
          "text": [
            "building x, y matrices: 100%|██████████| 1735/1735 [00:00<00:00, 29272.75it/s]\n",
            "generating neighbors matrix: 100%|██████████| 1735/1735 [00:00<00:00, 3878.48it/s]\n",
            "generating divided transition matrices m_p,m_en,m_eu: 100%|██████████| 1735/1735 [00:00<00:00, 18678.96it/s]\n"
          ]
        },
        {
          "output_type": "stream",
          "name": "stdout",
          "text": [
            "\n",
            "saving standard data for train\n",
            "\n",
            "\n",
            "processing standard data for valid\n",
            "\n"
          ]
        },
        {
          "output_type": "stream",
          "name": "stderr",
          "text": [
            "building x, y matrices: 100%|██████████| 218/218 [00:00<00:00, 28648.00it/s]\n",
            "generating neighbors matrix: 100%|██████████| 218/218 [00:00<00:00, 3303.91it/s]\n",
            "generating divided transition matrices m_p,m_en,m_eu: 100%|██████████| 218/218 [00:00<00:00, 14359.54it/s]"
          ]
        },
        {
          "output_type": "stream",
          "name": "stdout",
          "text": [
            "\n",
            "saving standard data for valid\n",
            "\n"
          ]
        },
        {
          "output_type": "stream",
          "name": "stderr",
          "text": [
            "\n"
          ]
        },
        {
          "output_type": "stream",
          "name": "stdout",
          "text": [
            "\n",
            "processing standard data for test\n",
            "\n"
          ]
        },
        {
          "output_type": "stream",
          "name": "stderr",
          "text": [
            "building x, y matrices: 100%|██████████| 216/216 [00:00<00:00, 30708.75it/s]\n",
            "generating neighbors matrix: 100%|██████████| 216/216 [00:00<00:00, 3490.78it/s]\n",
            "generating divided transition matrices m_p,m_en,m_eu: 100%|██████████| 216/216 [00:00<00:00, 19409.34it/s]"
          ]
        },
        {
          "output_type": "stream",
          "name": "stdout",
          "text": [
            "\n",
            "saving standard data for test\n",
            "\n"
          ]
        },
        {
          "output_type": "stream",
          "name": "stderr",
          "text": [
            "\n"
          ]
        }
      ]
    },
    {
      "cell_type": "markdown",
      "source": [
        "# Model Construction\n",
        "\n",
        "## Layers\n",
        "\n",
        "### Embedding layer\n",
        "\n",
        "\n",
        "\n",
        "1.   Two embedding matrices $\\mathbf{M,N}$ of size $s$ are used to embed diseases and their neighbours. They are shown in the code below as c_embeddings and n_embeddings\n",
        "2.   Unrelated diseases are embedded in matrix $\\mathbf{R}$ of size of size $s^{\\prime}$. They are shown below in code as u_embeddings\n",
        "\n",
        " \n"
      ],
      "metadata": {
        "id": "O-UyDYuMFO-J"
      }
    },
    {
      "cell_type": "code",
      "source": [
        "import torch\n",
        "from torch import nn\n",
        "class EmbeddingLayer(nn.Module):\n",
        "    def __init__(self, code_num, code_size, graph_size):\n",
        "        super().__init__()\n",
        "        self.code_num = code_num\n",
        "        self.c_embeddings = nn.Parameter(data=nn.init.xavier_uniform_(torch.empty(code_num, code_size)))\n",
        "        self.n_embeddings = nn.Parameter(data=nn.init.xavier_uniform_(torch.empty(code_num, code_size)))\n",
        "        self.u_embeddings = nn.Parameter(data=nn.init.xavier_uniform_(torch.empty(code_num, graph_size)))\n",
        "\n",
        "    def forward(self):\n",
        "        return self.c_embeddings, self.n_embeddings, self.u_embeddings"
      ],
      "metadata": {
        "id": "-tCB2iZSJlFA"
      },
      "execution_count": null,
      "outputs": []
    },
    {
      "cell_type": "markdown",
      "source": [
        "### Graph layer\n",
        "A graph neural network GNN is used to learn diagnosis and its neighbours that may influence future visits. The graph layer is summarized as \n",
        "\n",
        "$$\n",
        "\\mathbf{Z}^t_D = \\mathbf{m}^t \\odot \\mathbf{M} + \\underbrace{\\mathcal{M}_t\\mathbf{M}}_{\\text{local context}} +\\underbrace{ \\mathcal{B}_t\\mathbf{N}}_{\\text{diagnosis global context}}\n",
        "$$\n",
        "$$\\mathbf{Z}^t_N = \\mathbf{n}^t \\odot \\mathbf{N} + \\underbrace{\\mathcal{N}_t\\mathbf{N} + \\mathcal{B}_t\\mathbf{M}}_{\\text{neighbor global context}}\n",
        "$$\n",
        "\n",
        "$\\odot$ signifies elementwise multiplication. The hidden embeddings of diagnoses and neighbors, i.e., GNN outputs, are calculated with a fully connected layer , $\\mathbf{W}$ is the weight matrix.\n",
        "$$\n",
        "\\mathbf{H}^t_{{D,N}} = \\text{LeakyReLU} (\\mathbf{Z}^t_{{D,N}} \\mathbf{W})\n",
        "$$"
      ],
      "metadata": {
        "id": "8sQVif0vKP-j"
      }
    },
    {
      "cell_type": "code",
      "source": [
        "\n",
        "\n",
        "class GraphLayer(nn.Module):\n",
        "    def __init__(self, adj, code_size, graph_size):\n",
        "        super().__init__()\n",
        "        self.adj = adj\n",
        "        self.dense = nn.Linear(code_size, graph_size)\n",
        "        self.activation = nn.LeakyReLU()\n",
        "\n",
        "    def forward(self, code_x, neighbor, c_embeddings, n_embeddings):\n",
        "        center_codes = torch.unsqueeze(code_x, dim=-1)\n",
        "        neighbor_codes = torch.unsqueeze(neighbor, dim=-1)\n",
        "\n",
        "        center_embeddings = center_codes * c_embeddings\n",
        "        neighbor_embeddings = neighbor_codes * n_embeddings\n",
        "        cc_embeddings = center_codes * torch.matmul(self.adj, center_embeddings)\n",
        "        cn_embeddings = center_codes * torch.matmul(self.adj, neighbor_embeddings)\n",
        "        nn_embeddings = neighbor_codes * torch.matmul(self.adj, neighbor_embeddings)\n",
        "        nc_embeddings = neighbor_codes * torch.matmul(self.adj, center_embeddings)\n",
        "\n",
        "        co_embeddings = self.activation(self.dense(center_embeddings + cc_embeddings + cn_embeddings))\n",
        "        no_embeddings = self.activation(self.dense(neighbor_embeddings + nn_embeddings + nc_embeddings))\n",
        "        return co_embeddings, no_embeddings"
      ],
      "metadata": {
        "id": "MEgFWrRgJcC7"
      },
      "execution_count": null,
      "outputs": []
    },
    {
      "cell_type": "markdown",
      "source": [
        "### Transition functions\n",
        "\n",
        "For the diagnosis vector $m_t$ in visit t, when t $\\geq$ 2, the authors divide $m_t$ into three disjoint parts \n",
        "1.    Persistent diseases $m^t_p$, those are noses in visit $t$ that are also diagnoses in previous visit $t$-1.\n",
        "2.    Emerging diseases $m^t_{en}$, Diagnoses in visit $t$ that are neighbors in visit $t$-1.\n",
        "3.   Emerging unrelated diseases} $m^t_{eu}$, Diagnoses in visit $t$ that are unrelated diseases in visit $t$-1.\n",
        "\n",
        "To perform temporal learning on diagnoses, the paper proposed are 3 separate transition functions. \n",
        "\n",
        "The hidden states, \n",
        "1.   $h^t_{en}$  \n",
        "2.   $h^t_{eu}$ are computed using scaled dot product attention ([Vaswani2017Attention](https://arxiv.org/abs/1706.03762))\n",
        "and $a$ is the attention size. \n",
        "\n",
        "In the attention layer, \n",
        "*   For $h^t_{en}$ we use hidden neighbor embeddings $h^{t-1}_{N}$ query Q and key K. \n",
        "*   For $h^t_{eu}$ we use universal embeddings of unrelated diseases as query and key.\n",
        "\n",
        "3.    The transition function to model $h^t_{p}$ is computed by means of a Modified-GRU(M-GRU) which takes in hidden embeddings $H^t_D$ of diagnoses in visit $t$, transition outputs $h^t_{en}$ and $h^t_{eu}$ of emerging diseases in visit $t$, and the hidden state as well as the M-GRU output $h^{t-1}_{p}$. Besides making the original GRU work for matrices, the M-GRU  is modified in a way that it applies a $tanh$ activation function to hidden state of emerging diseases. Subsequently, they store the hidden state of emerging diseases to the hidden state of persistent diseases for the next visit.\n",
        "\n"
      ],
      "metadata": {
        "id": "tFZOrhXbMskq"
      }
    },
    {
      "cell_type": "code",
      "source": [
        "from attention import SingleHeadAttentionLayer\n",
        "\n",
        "class TransitionLayer(nn.Module):\n",
        "    def __init__(self, code_num, graph_size, hidden_size, t_attention_size, t_output_size):\n",
        "        super().__init__()\n",
        "        self.gru = nn.GRUCell(input_size=graph_size, hidden_size=hidden_size)\n",
        "        self.single_head_attention = SingleHeadAttentionLayer(graph_size, graph_size, t_output_size, t_attention_size)\n",
        "        self.activation = nn.Tanh()\n",
        "\n",
        "        self.code_num = code_num\n",
        "        self.hidden_size = hidden_size\n",
        "\n",
        "    def forward(self, t, co_embeddings, divided, no_embeddings, unrelated_embeddings, hidden_state=None):\n",
        "        m1, m2, m3 = divided[:, 0], divided[:, 1], divided[:, 2]\n",
        "        m1_index = torch.where(m1 > 0)[0]\n",
        "        m2_index = torch.where(m2 > 0)[0]\n",
        "        m3_index = torch.where(m3 > 0)[0]\n",
        "        h_new = torch.zeros((self.code_num, self.hidden_size), dtype=co_embeddings.dtype).to(co_embeddings.device)\n",
        "        output_m1 = 0\n",
        "        output_m23 = 0\n",
        "        if len(m1_index) > 0:\n",
        "            m1_embedding = co_embeddings[m1_index]\n",
        "            h = hidden_state[m1_index] if hidden_state is not None else None\n",
        "            h_m1 = self.gru(m1_embedding, h)\n",
        "            h_new[m1_index] = h_m1\n",
        "            output_m1, _ = torch.max(h_m1, dim=-2)\n",
        "        if t > 0 and len(m2_index) + len(m3_index) > 0:\n",
        "            q = torch.vstack([no_embeddings[m2_index], unrelated_embeddings[m3_index]])\n",
        "            v = torch.vstack([co_embeddings[m2_index], co_embeddings[m3_index]])\n",
        "            h_m23 = self.activation(self.single_head_attention(q, q, v))\n",
        "            h_new[m2_index] = h_m23[:len(m2_index)]\n",
        "            h_new[m3_index] = h_m23[len(m2_index):]\n",
        "            output_m23, _ = torch.max(h_m23, dim=-2)\n",
        "        if len(m1_index) == 0:\n",
        "            output = output_m23\n",
        "        elif len(m2_index) + len(m3_index) == 0:\n",
        "            output = output_m1\n",
        "        else:\n",
        "            output, _ = torch.max(torch.vstack([output_m1, output_m23]), dim=-2)\n",
        "        return output, h_new"
      ],
      "metadata": {
        "id": "OXfPNmTZJyg7"
      },
      "execution_count": null,
      "outputs": []
    },
    {
      "cell_type": "markdown",
      "source": [
        "# Training\n",
        "\n",
        "## Parameters\n",
        "\n",
        "We follow the same parameters followed by the authors described below\n",
        "\n",
        "| Parameter                           | MIMIC III | MIMIC IV |\n",
        "|-------------------------------------|-----------|----------|\n",
        "| Node frequency threshold $\\delta$   | 0.01      | 0.01     |\n",
        "| Embedding size $s$ for $M$, $N$     | 48        | 48       |\n",
        "| Embedding size $s^{\\prime}$ for $R$ | 32        | 32       |\n",
        "| Attention size $a$                  | 32        | 32       |\n",
        "| Hidden units diag pred.             | 256       | 350      |\n",
        "| Hidden units HF pred.               | 100       | 150      |\n"
      ],
      "metadata": {
        "id": "SDEPK3ojLD4O"
      }
    }
  ]
}