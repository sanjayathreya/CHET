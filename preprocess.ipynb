{
  "nbformat": 4,
  "nbformat_minor": 0,
  "metadata": {
    "colab": {
      "provenance": [],
      "authorship_tag": "ABX9TyO35/aMF6A8cSoL8x7saBUO",
      "include_colab_link": true
    },
    "kernelspec": {
      "name": "python3",
      "display_name": "Python 3"
    },
    "language_info": {
      "name": "python"
    },
    "gpuClass": "standard"
  },
  "cells": [
    {
      "cell_type": "markdown",
      "metadata": {
        "id": "view-in-github",
        "colab_type": "text"
      },
      "source": [
        "<a href=\"https://colab.research.google.com/github/sanjayathreya/Project/blob/main/preprocess.ipynb\" target=\"_parent\"><img src=\"https://colab.research.google.com/assets/colab-badge.svg\" alt=\"Open In Colab\"/></a>"
      ]
    },
    {
      "cell_type": "code",
      "execution_count": 1,
      "metadata": {
        "colab": {
          "base_uri": "https://localhost:8080/"
        },
        "id": "Vx8iyYf_VB3w",
        "outputId": "4f906705-bf1a-40a8-c7d1-d164ee74b074"
      },
      "outputs": [
        {
          "output_type": "stream",
          "name": "stdout",
          "text": [
            "Cloning into 'CHET'...\n",
            "remote: Enumerating objects: 34, done.\u001b[K\n",
            "remote: Counting objects: 100% (5/5), done.\u001b[K\n",
            "remote: Compressing objects: 100% (5/5), done.\u001b[K\n",
            "remote: Total 34 (delta 0), reused 2 (delta 0), pack-reused 29\u001b[K\n",
            "Unpacking objects: 100% (34/34), 3.07 MiB | 4.60 MiB/s, done.\n"
          ]
        }
      ],
      "source": [
        "!git clone https://github.com/sanjayathreya/Project.git\n",
        "!mv /content/Project /content/CHET"
      ]
    },
    {
      "cell_type": "code",
      "source": [
        "from google.colab import drive\n",
        "drive.mount('/content/drive')"
      ],
      "metadata": {
        "colab": {
          "base_uri": "https://localhost:8080/"
        },
        "id": "Rybth0xtlxuI",
        "outputId": "28af7495-5c33-4fc2-cddc-d85834e95fa2"
      },
      "execution_count": 2,
      "outputs": [
        {
          "output_type": "stream",
          "name": "stdout",
          "text": [
            "Mounted at /content/drive\n"
          ]
        }
      ]
    },
    {
      "cell_type": "code",
      "source": [
        "!mkdir /content/CHET/data\n",
        "!mkdir /content/CHET/data/mimic3/\n",
        "!mkdir /content/CHET/data/mimic4/"
      ],
      "metadata": {
        "id": "bQzcDSgHvoas"
      },
      "execution_count": 3,
      "outputs": []
    },
    {
      "cell_type": "code",
      "source": [
        "!cp -a /content/drive/MyDrive/CHET/data/mimic3/raw/ /content/CHET/data/mimic3/\n",
        "!cp -a /content/drive/MyDrive/CHET/data/mimic4/raw/ /content/CHET/data/mimic4/"
      ],
      "metadata": {
        "id": "Cdzoo6uEl2Pa"
      },
      "execution_count": 4,
      "outputs": []
    },
    {
      "cell_type": "code",
      "source": [
        "!pip install pyhealth\n",
        "!pip install"
      ],
      "metadata": {
        "id": "M8Ox1JXkVQ8z",
        "colab": {
          "base_uri": "https://localhost:8080/"
        },
        "outputId": "f88220e1-3f2b-4442-b871-6a24fd1b55f6"
      },
      "execution_count": 5,
      "outputs": [
        {
          "output_type": "stream",
          "name": "stdout",
          "text": [
            "Looking in indexes: https://pypi.org/simple, https://us-python.pkg.dev/colab-wheels/public/simple/\n",
            "Collecting pyhealth\n",
            "  Downloading pyhealth-1.1.3-py2.py3-none-any.whl (113 kB)\n",
            "\u001b[?25l     \u001b[90m━━━━━━━━━━━━━━━━━━━━━━━━━━━━━━━━━━━━━━━━\u001b[0m \u001b[32m0.0/113.8 kB\u001b[0m \u001b[31m?\u001b[0m eta \u001b[36m-:--:--\u001b[0m\r\u001b[2K     \u001b[90m━━━━━━━━━━━━━━━━━━━━━━━━━━━━━━━━━━━━━━\u001b[0m \u001b[32m113.8/113.8 kB\u001b[0m \u001b[31m14.6 MB/s\u001b[0m eta \u001b[36m0:00:00\u001b[0m\n",
            "\u001b[?25hRequirement already satisfied: scikit-learn>=0.24.2 in /usr/local/lib/python3.9/dist-packages (from pyhealth) (1.2.2)\n",
            "Requirement already satisfied: pandas>=1.3.2 in /usr/local/lib/python3.9/dist-packages (from pyhealth) (1.5.3)\n",
            "Requirement already satisfied: tqdm in /usr/local/lib/python3.9/dist-packages (from pyhealth) (4.65.0)\n",
            "Requirement already satisfied: networkx>=2.6.3 in /usr/local/lib/python3.9/dist-packages (from pyhealth) (3.1)\n",
            "Requirement already satisfied: torch>=1.8.0 in /usr/local/lib/python3.9/dist-packages (from pyhealth) (2.0.0+cu118)\n",
            "Collecting rdkit>=2022.03.4\n",
            "  Downloading rdkit-2022.9.5-cp39-cp39-manylinux_2_17_x86_64.manylinux2014_x86_64.whl (29.4 MB)\n",
            "\u001b[2K     \u001b[90m━━━━━━━━━━━━━━━━━━━━━━━━━━━━━━━━━━━━━━━━\u001b[0m \u001b[32m29.4/29.4 MB\u001b[0m \u001b[31m15.9 MB/s\u001b[0m eta \u001b[36m0:00:00\u001b[0m\n",
            "\u001b[?25hRequirement already satisfied: python-dateutil>=2.8.1 in /usr/local/lib/python3.9/dist-packages (from pandas>=1.3.2->pyhealth) (2.8.2)\n",
            "Requirement already satisfied: numpy>=1.20.3 in /usr/local/lib/python3.9/dist-packages (from pandas>=1.3.2->pyhealth) (1.22.4)\n",
            "Requirement already satisfied: pytz>=2020.1 in /usr/local/lib/python3.9/dist-packages (from pandas>=1.3.2->pyhealth) (2022.7.1)\n",
            "Requirement already satisfied: Pillow in /usr/local/lib/python3.9/dist-packages (from rdkit>=2022.03.4->pyhealth) (8.4.0)\n",
            "Requirement already satisfied: threadpoolctl>=2.0.0 in /usr/local/lib/python3.9/dist-packages (from scikit-learn>=0.24.2->pyhealth) (3.1.0)\n",
            "Requirement already satisfied: joblib>=1.1.1 in /usr/local/lib/python3.9/dist-packages (from scikit-learn>=0.24.2->pyhealth) (1.2.0)\n",
            "Requirement already satisfied: scipy>=1.3.2 in /usr/local/lib/python3.9/dist-packages (from scikit-learn>=0.24.2->pyhealth) (1.10.1)\n",
            "Requirement already satisfied: jinja2 in /usr/local/lib/python3.9/dist-packages (from torch>=1.8.0->pyhealth) (3.1.2)\n",
            "Requirement already satisfied: filelock in /usr/local/lib/python3.9/dist-packages (from torch>=1.8.0->pyhealth) (3.11.0)\n",
            "Requirement already satisfied: triton==2.0.0 in /usr/local/lib/python3.9/dist-packages (from torch>=1.8.0->pyhealth) (2.0.0)\n",
            "Requirement already satisfied: sympy in /usr/local/lib/python3.9/dist-packages (from torch>=1.8.0->pyhealth) (1.11.1)\n",
            "Requirement already satisfied: typing-extensions in /usr/local/lib/python3.9/dist-packages (from torch>=1.8.0->pyhealth) (4.5.0)\n",
            "Requirement already satisfied: lit in /usr/local/lib/python3.9/dist-packages (from triton==2.0.0->torch>=1.8.0->pyhealth) (16.0.1)\n",
            "Requirement already satisfied: cmake in /usr/local/lib/python3.9/dist-packages (from triton==2.0.0->torch>=1.8.0->pyhealth) (3.25.2)\n",
            "Requirement already satisfied: six>=1.5 in /usr/local/lib/python3.9/dist-packages (from python-dateutil>=2.8.1->pandas>=1.3.2->pyhealth) (1.16.0)\n",
            "Requirement already satisfied: MarkupSafe>=2.0 in /usr/local/lib/python3.9/dist-packages (from jinja2->torch>=1.8.0->pyhealth) (2.1.2)\n",
            "Requirement already satisfied: mpmath>=0.19 in /usr/local/lib/python3.9/dist-packages (from sympy->torch>=1.8.0->pyhealth) (1.3.0)\n",
            "Installing collected packages: rdkit, pyhealth\n",
            "Successfully installed pyhealth-1.1.3 rdkit-2022.9.5\n"
          ]
        }
      ]
    },
    {
      "cell_type": "code",
      "source": [
        "%cd /content/CHET"
      ],
      "metadata": {
        "colab": {
          "base_uri": "https://localhost:8080/"
        },
        "id": "lRowZYrvVTl0",
        "outputId": "e43d9178-5beb-4092-cade-ffcc1a8a95b4"
      },
      "execution_count": 6,
      "outputs": [
        {
          "output_type": "stream",
          "name": "stdout",
          "text": [
            "/content/CHET\n"
          ]
        }
      ]
    },
    {
      "cell_type": "code",
      "source": [
        "%pwd"
      ],
      "metadata": {
        "id": "m9T3XqvQVUOs",
        "colab": {
          "base_uri": "https://localhost:8080/",
          "height": 36
        },
        "outputId": "4572c88a-c08d-4980-f891-14c591ffc869"
      },
      "execution_count": 7,
      "outputs": [
        {
          "output_type": "execute_result",
          "data": {
            "text/plain": [
              "'/content/CHET'"
            ],
            "application/vnd.google.colaboratory.intrinsic+json": {
              "type": "string"
            }
          },
          "metadata": {},
          "execution_count": 7
        }
      ]
    },
    {
      "cell_type": "code",
      "source": [
        "import pandas as pd\n",
        "from pyhealth.medcode import CrossMap\n",
        "from pyhealth.datasets import MIMIC4Dataset,MIMIC3Dataset\n",
        "from pyhealth.medcode import InnerMap\n",
        "import os\n",
        "import pickle\n",
        "icd9cm = InnerMap.load(\"ICD9CM\")"
      ],
      "metadata": {
        "id": "m-rsPuT7VXMA"
      },
      "execution_count": 14,
      "outputs": []
    },
    {
      "cell_type": "code",
      "source": [
        "!cp /content/CHET/ICD10CM_to_ICD9CM.csv /root/.cache/pyhealth/medcode"
      ],
      "metadata": {
        "id": "m136Ymr_O9GZ"
      },
      "execution_count": 9,
      "outputs": []
    },
    {
      "cell_type": "code",
      "source": [
        "mimic3_ds = MIMIC3Dataset(\n",
        "    # Argument 1: It specifies the data folder root.\n",
        "    root=\"data/mimic3/raw\",\n",
        "\n",
        "    # Argument 2: The users need to input a list of raw table names (e.g., DIAGNOSES_ICD.csv, PROCEDURES_ICD.csv).\n",
        "    tables=[\"DIAGNOSES_ICD\"],\n",
        "\n",
        "    # Argument 3: This argument input a dictionary (key is the source code\n",
        "    # vocabulary and value is the target code vocabulary .\n",
        "    # Default is empty dict, which means the original code will be used.\n",
        ")"
      ],
      "metadata": {
        "id": "Odv7xPN5VcSD",
        "colab": {
          "base_uri": "https://localhost:8080/"
        },
        "outputId": "5cda78d3-9bc5-41ea-dad3-e3f091fed5c8"
      },
      "execution_count": 10,
      "outputs": [
        {
          "output_type": "stream",
          "name": "stderr",
          "text": [
            "Parsing PATIENTS and ADMISSIONS: 100%|██████████| 23692/23692 [00:35<00:00, 668.81it/s]\n",
            "Parsing DIAGNOSES_ICD: 100%|██████████| 26830/26830 [00:03<00:00, 8221.91it/s] \n",
            "Mapping codes: 100%|██████████| 23692/23692 [00:00<00:00, 124555.13it/s]\n"
          ]
        }
      ]
    },
    {
      "cell_type": "code",
      "source": [
        "from collections import OrderedDict\n",
        "icd9cm = InnerMap.load(\"ICD9CM\")\n",
        "patient_admission = OrderedDict()\n",
        "admission_codes = OrderedDict()\n",
        "\n",
        "patient_dict = mimic3_ds.patients\n",
        "del_pid = {}\n",
        "for pid, values in patient_dict.items():\n",
        "  patient = patient_dict[pid]\n",
        "  visit_dict = patient.visits\n",
        "  if(len(visit_dict) >=2):\n",
        "    admissions = []\n",
        "    for visit_key, visit_values in visit_dict.items():\n",
        "      diagnoses = visit_values.get_code_list(table=\"DIAGNOSES_ICD\")\n",
        "      diagnoses_std = [icd9cm.standardize(code) for code in diagnoses]\n",
        "      admissions.append({'adm_id': visit_key, 'adm_time': visit_values.encounter_time})\n",
        "      admission_codes[visit_key] = diagnoses_std\n",
        "      if (len(diagnoses) == 0):\n",
        "        del_pid[pid] = pid\n",
        "    patient_admission[pid] = sorted(admissions, key=lambda admission: admission['adm_time'])\n",
        "\n",
        "for pid in del_pid.keys():\n",
        "  patient = patient_dict[pid]\n",
        "  visit_dict = patient.visits\n",
        "  del patient_admission[pid]\n",
        "  for visit_key, visit_values in visit_dict.items():\n",
        "    del admission_codes[visit_key]"
      ],
      "metadata": {
        "id": "t4twfGvquvkQ"
      },
      "execution_count": 11,
      "outputs": []
    },
    {
      "cell_type": "code",
      "source": [
        "patient_num = len(patient_admission)\n",
        "max_admission_num = max([len(admissions) for admissions in patient_admission.values()])\n",
        "avg_admission_num = sum([len(admissions) for admissions in patient_admission.values()]) / patient_num\n",
        "max_visit_code_num = max([len(codes) for codes in admission_codes.values()])\n",
        "avg_visit_code_num = sum([len(codes) for codes in admission_codes.values()]) / len(admission_codes)\n",
        "print('patient num: %d' % patient_num)\n",
        "print('max admission num: %d' % max_admission_num)\n",
        "print('mean admission num: %.2f' % avg_admission_num)\n",
        "print('max code num in an admission: %d' % max_visit_code_num)\n",
        "print('mean code num in an admission: %.2f' % avg_visit_code_num)"
      ],
      "metadata": {
        "colab": {
          "base_uri": "https://localhost:8080/"
        },
        "id": "qpSUyQrTmbB4",
        "outputId": "f655f191-bead-4b11-ee30-5b20c84b20d1"
      },
      "execution_count": 12,
      "outputs": [
        {
          "output_type": "stream",
          "name": "stdout",
          "text": [
            "patient num: 2169\n",
            "max admission num: 23\n",
            "mean admission num: 2.45\n",
            "max code num in an admission: 39\n",
            "mean code num in an admission: 10.70\n"
          ]
        }
      ]
    },
    {
      "cell_type": "code",
      "source": [
        "%pwd"
      ],
      "metadata": {
        "colab": {
          "base_uri": "https://localhost:8080/",
          "height": 36
        },
        "id": "69rzsUIgziec",
        "outputId": "560e52cc-e327-452e-d45c-f861e7fd68cf"
      },
      "execution_count": 16,
      "outputs": [
        {
          "output_type": "execute_result",
          "data": {
            "text/plain": [
              "'/content/CHET'"
            ],
            "application/vnd.google.colaboratory.intrinsic+json": {
              "type": "string"
            }
          },
          "metadata": {},
          "execution_count": 16
        }
      ]
    },
    {
      "cell_type": "code",
      "source": [
        "data_path = 'data'\n",
        "dataset = 'mimic3'  # mimic3, eicu, or mimic4\n",
        "dataset_path = os.path.join(data_path,dataset)\n",
        "parsed_path = os.path.join(dataset_path, 'parsed')\n",
        "print('saving parsed data ...')\n",
        "if not os.path.exists(parsed_path):\n",
        "  os.makedirs(parsed_path)\n",
        "pickle.dump(patient_admission, open(os.path.join(parsed_path, 'patient_admission.pkl'), 'wb'))\n",
        "pickle.dump(admission_codes, open(os.path.join(parsed_path, 'admission_codes.pkl'), 'wb'))"
      ],
      "metadata": {
        "colab": {
          "base_uri": "https://localhost:8080/"
        },
        "id": "T0E2M8c6yTyH",
        "outputId": "5b7a3fd0-8510-40b3-c4ae-43dc4c54ea04"
      },
      "execution_count": 15,
      "outputs": [
        {
          "output_type": "stream",
          "name": "stdout",
          "text": [
            "saving parsed data ...\n"
          ]
        }
      ]
    },
    {
      "cell_type": "code",
      "source": [
        "mimic4_ds = MIMIC4Dataset(\n",
        "    # Argument 1: It specifies the data folder root.\n",
        "    root=\"data/mimic4/raw\",\n",
        "\n",
        "    # Argument 2: The users need to input a list of raw table names (e.g., DIAGNOSES_ICD.csv, PROCEDURES_ICD.csv).\n",
        "    tables=[\"diagnoses_icd\"],\n",
        "\n",
        "    # Argument 3: This argument input a dictionary (key is the source code\n",
        "    # vocabulary and value is the target code vocabulary .\n",
        "    # Default is empty dict, which means the original code will be used.\n",
        "    code_mapping={\"ICD10CM\": \"ICD9CM\"},\n",
        ")"
      ],
      "metadata": {
        "id": "77yrMFzZa27n",
        "colab": {
          "base_uri": "https://localhost:8080/"
        },
        "outputId": "65ec015b-f068-4bf1-8a96-12166ade8f06"
      },
      "execution_count": 17,
      "outputs": [
        {
          "output_type": "stream",
          "name": "stderr",
          "text": [
            "Parsing patients and admissions: 100%|██████████| 180733/180733 [05:43<00:00, 525.43it/s]\n",
            "Parsing diagnoses_icd: 100%|██████████| 430852/430852 [01:25<00:00, 5051.48it/s]\n",
            "Mapping codes: 100%|██████████| 180733/180733 [00:16<00:00, 10962.33it/s]\n"
          ]
        }
      ]
    },
    {
      "cell_type": "code",
      "source": [
        "mimic4_ds.stat()"
      ],
      "metadata": {
        "colab": {
          "base_uri": "https://localhost:8080/",
          "height": 197
        },
        "id": "VglqpGKdHA8c",
        "outputId": "04f1846b-1bbd-414c-ac9d-03b0a33fe543"
      },
      "execution_count": 40,
      "outputs": [
        {
          "output_type": "stream",
          "name": "stdout",
          "text": [
            "\n",
            "Statistics of base dataset (dev=False):\n",
            "\t- Dataset: MIMIC4Dataset\n",
            "\t- Number of patients: 180733\n",
            "\t- Number of visits: 431231\n",
            "\t- Number of visits per patient: 2.3860\n",
            "\t- Number of events per visit in DIAGNOSES_ICD: 0.0000\n",
            "\n"
          ]
        },
        {
          "output_type": "execute_result",
          "data": {
            "text/plain": [
              "'\\nStatistics of base dataset (dev=False):\\n\\t- Dataset: MIMIC4Dataset\\n\\t- Number of patients: 180733\\n\\t- Number of visits: 431231\\n\\t- Number of visits per patient: 2.3860\\n\\t- Number of events per visit in DIAGNOSES_ICD: 0.0000\\n'"
            ],
            "application/vnd.google.colaboratory.intrinsic+json": {
              "type": "string"
            }
          },
          "metadata": {},
          "execution_count": 40
        }
      ]
    },
    {
      "cell_type": "code",
      "source": [
        "patient4_dict = mimic4_ds.patients\n",
        "print(list(patient4_dict.keys())[:10])"
      ],
      "metadata": {
        "id": "9WqEdkRPbduB",
        "colab": {
          "base_uri": "https://localhost:8080/"
        },
        "outputId": "401aed13-a0c6-4d3a-cf92-d0937e8a772c"
      },
      "execution_count": 38,
      "outputs": [
        {
          "output_type": "stream",
          "name": "stdout",
          "text": [
            "['10000032', '10000068', '10000084', '10000108', '10000117', '10000248', '10000280', '10000560', '10000635', '10000719']\n"
          ]
        }
      ]
    },
    {
      "cell_type": "code",
      "source": [
        "patient_ = patient4_dict[\"10000032\"]"
      ],
      "metadata": {
        "id": "S1cQiEyk5oUO"
      },
      "execution_count": 39,
      "outputs": []
    },
    {
      "cell_type": "code",
      "source": [
        "from collections import OrderedDict\n",
        "patient_admission = OrderedDict()\n",
        "admission_codes = OrderedDict()\n",
        "\n",
        "patient_dict = mimic4_ds.patients\n",
        "del_pid = {}\n",
        "for pid, values in patient_dict.items():\n",
        "  patient = patient_dict[pid]\n",
        "  visit_dict = patient.visits\n",
        "  if(len(visit_dict) >=2):\n",
        "    admissions = []\n",
        "    for visit_key, visit_values in visit_dict.items():\n",
        "      diagnoses = visit_values.get_code_list(table=\"diagnoses_icd\")\n",
        "      diagnoses_std = [icd9cm.standardize(code) for code in diagnoses]\n",
        "      admissions.append({'adm_id': visit_key, 'adm_time': visit_values.encounter_time})\n",
        "      admission_codes[visit_key] = diagnoses_std\n",
        "      if (len(diagnoses) == 0):\n",
        "        del_pid[pid] = pid\n",
        "    patient_admission[pid] = sorted(admissions, key=lambda admission: admission['adm_time'])\n",
        "\n",
        "for pid in del_pid.keys():\n",
        "  patient = patient_dict[pid]\n",
        "  visit_dict = patient.visits\n",
        "  del patient_admission[pid]\n",
        "  for visit_key, visit_values in visit_dict.items():\n",
        "    del admission_codes[visit_key]"
      ],
      "metadata": {
        "id": "52s4fdTX51vu"
      },
      "execution_count": 41,
      "outputs": []
    },
    {
      "cell_type": "code",
      "source": [
        "patient_num = len(patient_admission)\n",
        "max_admission_num = max([len(admissions) for admissions in patient_admission.values()])\n",
        "avg_admission_num = sum([len(admissions) for admissions in patient_admission.values()]) / patient_num\n",
        "max_visit_code_num = max([len(codes) for codes in admission_codes.values()])\n",
        "avg_visit_code_num = sum([len(codes) for codes in admission_codes.values()]) / len(admission_codes)\n",
        "print('patient num: %d' % patient_num)\n",
        "print('max admission num: %d' % max_admission_num)\n",
        "print('mean admission num: %.2f' % avg_admission_num)\n",
        "print('max code num in an admission: %d' % max_visit_code_num)\n",
        "print('mean code num in an admission: %.2f' % avg_visit_code_num)"
      ],
      "metadata": {
        "colab": {
          "base_uri": "https://localhost:8080/"
        },
        "id": "O3X2SMeZF5e-",
        "outputId": "4045eac8-3073-4cd5-c4b9-7974aea67705"
      },
      "execution_count": 43,
      "outputs": [
        {
          "output_type": "stream",
          "name": "stdout",
          "text": [
            "patient num: 55875\n",
            "max admission num: 95\n",
            "mean admission num: 3.69\n",
            "max code num in an admission: 39\n",
            "mean code num in an admission: 9.23\n"
          ]
        }
      ]
    },
    {
      "cell_type": "code",
      "source": [
        "dataset = 'mimic4'  # mimic3, eicu, or mimic4\n",
        "dataset_path = os.path.join(data_path,dataset)\n",
        "parsed_path = os.path.join(dataset_path, 'parsed')\n"
      ],
      "metadata": {
        "id": "9ZinS91mExoV"
      },
      "execution_count": 44,
      "outputs": []
    },
    {
      "cell_type": "code",
      "source": [
        "import numpy as np\n",
        "seeds = [6669, 1000, 1050, 2052, 3000]\n",
        "sample_num = 10000\n",
        "for idx, seed in enumerate(seeds):\n",
        "  np.random.seed(seed)\n",
        "  keys = list(patient_admission.keys())\n",
        "  selected_pids = np.random.choice(keys, sample_num, False)\n",
        "  patient_admission_sample = {pid: patient_admission[pid] for pid in selected_pids}\n",
        "  admission_codes_sample = dict()\n",
        "  for admissions in patient_admission_sample.values():\n",
        "      for admission in admissions:\n",
        "          adm_id = admission['adm_id']\n",
        "          admission_codes_sample[adm_id] = admission_codes[adm_id]\n",
        "  print('saving parsed data ...')\n",
        "  parsed_path_sample = os.path.join(parsed_path,str(idx))\n",
        "  if not os.path.exists(parsed_path_sample):\n",
        "    os.makedirs(parsed_path_sample)\n",
        "  pickle.dump(patient_admission_sample, open(os.path.join(parsed_path_sample, 'patient_admission.pkl'), 'wb'))\n",
        "  pickle.dump(admission_codes_sample, open(os.path.join(parsed_path_sample, 'admission_codes.pkl'), 'wb'))"
      ],
      "metadata": {
        "colab": {
          "base_uri": "https://localhost:8080/"
        },
        "id": "Ur0LNyyiC8Qj",
        "outputId": "b245cb02-b851-4019-bb60-564255bb926c"
      },
      "execution_count": 48,
      "outputs": [
        {
          "output_type": "stream",
          "name": "stdout",
          "text": [
            "saving parsed data ...\n",
            "saving parsed data ...\n",
            "saving parsed data ...\n",
            "saving parsed data ...\n",
            "saving parsed data ...\n"
          ]
        }
      ]
    },
    {
      "cell_type": "code",
      "source": [
        "for idx, seed in enumerate(seeds):\n",
        "  parsed_path_sample = os.path.join(parsed_path,str(idx))\n",
        "  patient_admission = pickle.load(open(os.path.join(parsed_path_sample, 'patient_admission.pkl'), 'rb'))\n",
        "  admission_codes = pickle.load(open(os.path.join(parsed_path_sample, 'admission_codes.pkl'), 'rb'))\n",
        "  patient_num = len(patient_admission)\n",
        "  max_admission_num = max([len(admissions) for admissions in patient_admission.values()])\n",
        "  avg_admission_num = sum([len(admissions) for admissions in patient_admission.values()]) / patient_num\n",
        "  max_visit_code_num = max([len(codes) for codes in admission_codes.values()])\n",
        "  avg_visit_code_num = sum([len(codes) for codes in admission_codes.values()]) / len(admission_codes)\n",
        "  print('********SAMPLE #: %d *************' % (idx+1))\n",
        "  print('patient num: %d' % patient_num)\n",
        "  print('patient num: %d' % patient_num)\n",
        "  print('max admission num: %d' % max_admission_num)\n",
        "  print('mean admission num: %.2f' % avg_admission_num)\n",
        "  print('max code num in an admission: %d' % max_visit_code_num)\n",
        "  print('mean code num in an admission: %.2f' % avg_visit_code_num)"
      ],
      "metadata": {
        "colab": {
          "base_uri": "https://localhost:8080/"
        },
        "id": "p4QpBkwWHqV_",
        "outputId": "53dec2b5-addc-4270-e5d9-1acbe4fbd24d"
      },
      "execution_count": 51,
      "outputs": [
        {
          "output_type": "stream",
          "name": "stdout",
          "text": [
            "********SAMPLE #: 1 *************\n",
            "patient num: 10000\n",
            "patient num: 10000\n",
            "max admission num: 64\n",
            "mean admission num: 3.71\n",
            "max code num in an admission: 39\n",
            "mean code num in an admission: 9.29\n",
            "********SAMPLE #: 2 *************\n",
            "patient num: 10000\n",
            "patient num: 10000\n",
            "max admission num: 77\n",
            "mean admission num: 3.68\n",
            "max code num in an admission: 39\n",
            "mean code num in an admission: 9.07\n",
            "********SAMPLE #: 3 *************\n",
            "patient num: 10000\n",
            "patient num: 10000\n",
            "max admission num: 94\n",
            "mean admission num: 3.69\n",
            "max code num in an admission: 39\n",
            "mean code num in an admission: 9.23\n",
            "********SAMPLE #: 4 *************\n",
            "patient num: 10000\n",
            "patient num: 10000\n",
            "max admission num: 71\n",
            "mean admission num: 3.69\n",
            "max code num in an admission: 39\n",
            "mean code num in an admission: 9.32\n",
            "********SAMPLE #: 5 *************\n",
            "patient num: 10000\n",
            "patient num: 10000\n",
            "max admission num: 52\n",
            "mean admission num: 3.68\n",
            "max code num in an admission: 39\n",
            "mean code num in an admission: 9.26\n"
          ]
        }
      ]
    },
    {
      "cell_type": "code",
      "source": [
        "# !cp -a /content/CHET/data/mimic4/parsed/ /content/drive/MyDrive/CHET/data/mimic4/parsed/\n",
        "# !cp -a /content/CHET/data/mimic4/parsed/ /content/drive/MyDrive/CHET/data/mimic4/parsed/"
      ],
      "metadata": {
        "id": "QT376kFsJeva"
      },
      "execution_count": 52,
      "outputs": []
    }
  ]
}