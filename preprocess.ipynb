{
  "nbformat": 4,
  "nbformat_minor": 0,
  "metadata": {
    "colab": {
      "provenance": [],
      "authorship_tag": "ABX9TyNAsigmXSlgxnb3jWfcu1pa",
      "include_colab_link": true
    },
    "kernelspec": {
      "name": "python3",
      "display_name": "Python 3"
    },
    "language_info": {
      "name": "python"
    },
    "gpuClass": "standard"
  },
  "cells": [
    {
      "cell_type": "markdown",
      "metadata": {
        "id": "view-in-github",
        "colab_type": "text"
      },
      "source": [
        "<a href=\"https://colab.research.google.com/github/sanjayathreya/CHET/blob/main/preprocess.ipynb\" target=\"_parent\"><img src=\"https://colab.research.google.com/assets/colab-badge.svg\" alt=\"Open In Colab\"/></a>"
      ]
    },
    {
      "cell_type": "code",
      "execution_count": 1,
      "metadata": {
        "colab": {
          "base_uri": "https://localhost:8080/"
        },
        "id": "Vx8iyYf_VB3w",
        "outputId": "baa5949d-1c29-40de-e0e3-305c7ca35aec"
      },
      "outputs": [
        {
          "output_type": "stream",
          "name": "stdout",
          "text": [
            "Cloning into 'CHET'...\n",
            "remote: Enumerating objects: 12, done.\u001b[K\n",
            "remote: Counting objects: 100% (12/12), done.\u001b[K\n",
            "remote: Compressing objects: 100% (9/9), done.\u001b[K\n",
            "remote: Total 12 (delta 1), reused 8 (delta 0), pack-reused 0\u001b[K\n",
            "Unpacking objects: 100% (12/12), 2.85 MiB | 6.17 MiB/s, done.\n"
          ]
        }
      ],
      "source": [
        "! git clone https://github.com/sanjayathreya/CHET.git"
      ]
    },
    {
      "cell_type": "code",
      "source": [
        "!pip install pyhealth"
      ],
      "metadata": {
        "id": "M8Ox1JXkVQ8z",
        "colab": {
          "base_uri": "https://localhost:8080/"
        },
        "outputId": "41cde11a-bc5e-43bb-a48e-3136b63b4157"
      },
      "execution_count": 2,
      "outputs": [
        {
          "output_type": "stream",
          "name": "stdout",
          "text": [
            "Looking in indexes: https://pypi.org/simple, https://us-python.pkg.dev/colab-wheels/public/simple/\n",
            "Collecting pyhealth\n",
            "  Downloading pyhealth-1.1.3-py2.py3-none-any.whl (113 kB)\n",
            "\u001b[2K     \u001b[90m━━━━━━━━━━━━━━━━━━━━━━━━━━━━━━━━━━━━━━━\u001b[0m \u001b[32m113.8/113.8 kB\u001b[0m \u001b[31m3.9 MB/s\u001b[0m eta \u001b[36m0:00:00\u001b[0m\n",
            "\u001b[?25hRequirement already satisfied: networkx>=2.6.3 in /usr/local/lib/python3.9/dist-packages (from pyhealth) (3.1)\n",
            "Requirement already satisfied: tqdm in /usr/local/lib/python3.9/dist-packages (from pyhealth) (4.65.0)\n",
            "Requirement already satisfied: pandas>=1.3.2 in /usr/local/lib/python3.9/dist-packages (from pyhealth) (1.5.3)\n",
            "Requirement already satisfied: scikit-learn>=0.24.2 in /usr/local/lib/python3.9/dist-packages (from pyhealth) (1.2.2)\n",
            "Requirement already satisfied: torch>=1.8.0 in /usr/local/lib/python3.9/dist-packages (from pyhealth) (2.0.0+cu118)\n",
            "Collecting rdkit>=2022.03.4\n",
            "  Downloading rdkit-2022.9.5-cp39-cp39-manylinux_2_17_x86_64.manylinux2014_x86_64.whl (29.4 MB)\n",
            "\u001b[2K     \u001b[90m━━━━━━━━━━━━━━━━━━━━━━━━━━━━━━━━━━━━━━━━\u001b[0m \u001b[32m29.4/29.4 MB\u001b[0m \u001b[31m44.6 MB/s\u001b[0m eta \u001b[36m0:00:00\u001b[0m\n",
            "\u001b[?25hRequirement already satisfied: numpy>=1.20.3 in /usr/local/lib/python3.9/dist-packages (from pandas>=1.3.2->pyhealth) (1.22.4)\n",
            "Requirement already satisfied: pytz>=2020.1 in /usr/local/lib/python3.9/dist-packages (from pandas>=1.3.2->pyhealth) (2022.7.1)\n",
            "Requirement already satisfied: python-dateutil>=2.8.1 in /usr/local/lib/python3.9/dist-packages (from pandas>=1.3.2->pyhealth) (2.8.2)\n",
            "Requirement already satisfied: Pillow in /usr/local/lib/python3.9/dist-packages (from rdkit>=2022.03.4->pyhealth) (8.4.0)\n",
            "Requirement already satisfied: scipy>=1.3.2 in /usr/local/lib/python3.9/dist-packages (from scikit-learn>=0.24.2->pyhealth) (1.10.1)\n",
            "Requirement already satisfied: threadpoolctl>=2.0.0 in /usr/local/lib/python3.9/dist-packages (from scikit-learn>=0.24.2->pyhealth) (3.1.0)\n",
            "Requirement already satisfied: joblib>=1.1.1 in /usr/local/lib/python3.9/dist-packages (from scikit-learn>=0.24.2->pyhealth) (1.2.0)\n",
            "Requirement already satisfied: filelock in /usr/local/lib/python3.9/dist-packages (from torch>=1.8.0->pyhealth) (3.11.0)\n",
            "Requirement already satisfied: triton==2.0.0 in /usr/local/lib/python3.9/dist-packages (from torch>=1.8.0->pyhealth) (2.0.0)\n",
            "Requirement already satisfied: typing-extensions in /usr/local/lib/python3.9/dist-packages (from torch>=1.8.0->pyhealth) (4.5.0)\n",
            "Requirement already satisfied: sympy in /usr/local/lib/python3.9/dist-packages (from torch>=1.8.0->pyhealth) (1.11.1)\n",
            "Requirement already satisfied: jinja2 in /usr/local/lib/python3.9/dist-packages (from torch>=1.8.0->pyhealth) (3.1.2)\n",
            "Requirement already satisfied: lit in /usr/local/lib/python3.9/dist-packages (from triton==2.0.0->torch>=1.8.0->pyhealth) (16.0.1)\n",
            "Requirement already satisfied: cmake in /usr/local/lib/python3.9/dist-packages (from triton==2.0.0->torch>=1.8.0->pyhealth) (3.25.2)\n",
            "Requirement already satisfied: six>=1.5 in /usr/local/lib/python3.9/dist-packages (from python-dateutil>=2.8.1->pandas>=1.3.2->pyhealth) (1.16.0)\n",
            "Requirement already satisfied: MarkupSafe>=2.0 in /usr/local/lib/python3.9/dist-packages (from jinja2->torch>=1.8.0->pyhealth) (2.1.2)\n",
            "Requirement already satisfied: mpmath>=0.19 in /usr/local/lib/python3.9/dist-packages (from sympy->torch>=1.8.0->pyhealth) (1.3.0)\n",
            "Installing collected packages: rdkit, pyhealth\n",
            "Successfully installed pyhealth-1.1.3 rdkit-2022.9.5\n"
          ]
        }
      ]
    },
    {
      "cell_type": "code",
      "source": [
        "%cd /content/CHET"
      ],
      "metadata": {
        "colab": {
          "base_uri": "https://localhost:8080/"
        },
        "id": "lRowZYrvVTl0",
        "outputId": "ba93126d-dd2e-47d0-b891-3d25f2399314"
      },
      "execution_count": 7,
      "outputs": [
        {
          "output_type": "stream",
          "name": "stdout",
          "text": [
            "/content/CHET\n"
          ]
        }
      ]
    },
    {
      "cell_type": "code",
      "source": [
        "%pwd"
      ],
      "metadata": {
        "id": "m9T3XqvQVUOs",
        "colab": {
          "base_uri": "https://localhost:8080/",
          "height": 36
        },
        "outputId": "ef2faac7-8b23-4a14-f48b-e7df8be3097a"
      },
      "execution_count": 8,
      "outputs": [
        {
          "output_type": "execute_result",
          "data": {
            "text/plain": [
              "'/content/CHET'"
            ],
            "application/vnd.google.colaboratory.intrinsic+json": {
              "type": "string"
            }
          },
          "metadata": {},
          "execution_count": 8
        }
      ]
    },
    {
      "cell_type": "code",
      "source": [
        "import pandas as pd\n",
        "from pyhealth.medcode import CrossMap\n",
        "from pyhealth.datasets import MIMIC4Dataset,MIMIC3Dataset\n",
        "from pyhealth.medcode import InnerMap\n",
        "icd9cm = InnerMap.load(\"ICD9CM\")"
      ],
      "metadata": {
        "id": "m-rsPuT7VXMA"
      },
      "execution_count": 35,
      "outputs": []
    },
    {
      "cell_type": "code",
      "source": [
        "mimic3_ds = MIMIC3Dataset(\n",
        "    # Argument 1: It specifies the data folder root.\n",
        "    root=\"data/mimic3/raw\",\n",
        "\n",
        "    # Argument 2: The users need to input a list of raw table names (e.g., DIAGNOSES_ICD.csv, PROCEDURES_ICD.csv).\n",
        "    tables=[\"DIAGNOSES_ICD\"],\n",
        "\n",
        "    # Argument 3: This argument input a dictionary (key is the source code\n",
        "    # vocabulary and value is the target code vocabulary .\n",
        "    # Default is empty dict, which means the original code will be used.\n",
        ")"
      ],
      "metadata": {
        "id": "Odv7xPN5VcSD",
        "colab": {
          "base_uri": "https://localhost:8080/"
        },
        "outputId": "8fb098a8-0bba-4f45-e8c5-435e828ef4a7"
      },
      "execution_count": 11,
      "outputs": [
        {
          "output_type": "stream",
          "name": "stderr",
          "text": [
            "Parsing PATIENTS and ADMISSIONS: 100%|██████████| 23692/23692 [00:36<00:00, 654.47it/s]\n",
            "Parsing DIAGNOSES_ICD: 100%|██████████| 26830/26830 [00:03<00:00, 6870.20it/s]\n",
            "Mapping codes: 100%|██████████| 23692/23692 [00:00<00:00, 68211.72it/s]\n"
          ]
        }
      ]
    },
    {
      "cell_type": "code",
      "source": [
        "from collections import OrderedDict\n",
        "patient_admission = OrderedDict()\n",
        "admission_codes = OrderedDict()\n",
        "\n",
        "patient_dict = mimic3_ds.patients\n",
        "print(list(patient_dict.keys())[:10])\n",
        "patient = patient_dict[\"1004\"]\n",
        "visit_dict = patient.visits\n",
        "len(visit_dict)\n",
        "admissions =[]\n",
        "for visit_key, visit_values in visit_dict.items():\n",
        "  admissions.append({'adm_id': visit_key, 'adm_time': visit_values.encounter_time}) \n",
        "  diagnoses = visit_values.get_code_list(table=\"DIAGNOSES_ICD\")\n",
        "  diagnoses_std = [icd9cm.standardize(code) for code in diagnoses]\n",
        "  admission_codes[visit_key] = diagnoses_std\n",
        "\n",
        "patient_admission[patient] = sorted(admissions, key=lambda admission: admission['adm_time'])\n",
        "\n",
        "print(patient_admission)\n",
        "print(admission_codes)\n"
      ],
      "metadata": {
        "colab": {
          "base_uri": "https://localhost:8080/"
        },
        "id": "t4twfGvquvkQ",
        "outputId": "d4eaf444-b203-4de9-ca39-59a3647aa157"
      },
      "execution_count": 37,
      "outputs": [
        {
          "output_type": "stream",
          "name": "stdout",
          "text": [
            "['10', '100', '1000', '10000', '10001', '10002', '10005', '10006', '10007', '10008']\n",
            "OrderedDict([(Patient 1004 with 2 visits, [{'adm_id': '127794', 'adm_time': datetime.datetime(2108, 5, 10, 8, 0)}, {'adm_id': '177186', 'adm_time': datetime.datetime(2108, 6, 7, 21, 52)}])])\n",
            "OrderedDict([('127794', ['437.3', '518.5', '997.2', '444.22', '997.02', '588.1', '599.0', 'E879.8', '998.2', '403.90', '753.12', '296.80', '378.51', 'V58.65', '443.0']), ('177186', ['434.91', '444.22', '276.7', '287.4', '584.9', '998.11', '276.0', '276.2', '452', '573.4', '570', '588.1', 'E934.2', '401.9', '753.12', '296.7', '272.4'])])\n"
          ]
        }
      ]
    }
  ]
}